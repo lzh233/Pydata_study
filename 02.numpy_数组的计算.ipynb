{
 "cells": [
  {
   "cell_type": "code",
   "execution_count": 3,
   "id": "096e2ac4",
   "metadata": {},
   "outputs": [],
   "source": [
    "import numpy as np\n",
    "#NumPy 为很多类型的操作提供了非常方便的、 静态类型的、 可编译程序的接口， 也被称作向量操作。 你可以通过简单地对数组执行操作来实现，\n",
    "#这里对数组的操作将会被用于数组中的每一个元素。 这种向量方法被用于将循环推送至 NumPy 之下的编译层， 这样会取得更快的执行效率"
   ]
  },
  {
   "cell_type": "code",
   "execution_count": 4,
   "id": "d74b6089",
   "metadata": {},
   "outputs": [],
   "source": [
    "##-----------------------------##\n",
    "##----------数组的运算----------##\n",
    "##-----------------------------##"
   ]
  },
  {
   "cell_type": "code",
   "execution_count": 5,
   "id": "2ab86d8c",
   "metadata": {},
   "outputs": [
    {
     "data": {
      "text/plain": [
       "array([0, 1, 2, 3, 4, 5, 6, 7, 8, 9])"
      ]
     },
     "execution_count": 5,
     "metadata": {},
     "output_type": "execute_result"
    }
   ],
   "source": [
    "x = np.arange(10)\n",
    "x"
   ]
  },
  {
   "cell_type": "code",
   "execution_count": 6,
   "id": "a584e613",
   "metadata": {},
   "outputs": [],
   "source": [
    "# + - * / %% ....均可直接使用"
   ]
  },
  {
   "cell_type": "code",
   "execution_count": 7,
   "id": "9aadb5dd",
   "metadata": {},
   "outputs": [
    {
     "name": "stdout",
     "output_type": "stream",
     "text": [
      "+：  [10 11 12 13 14 15 16 17 18 19]\n",
      "-：  [-10  -9  -8  -7  -6  -5  -4  -3  -2  -1]\n",
      "*：  [ 0 10 20 30 40 50 60 70 80 90]\n",
      "/：  [0.  0.1 0.2 0.3 0.4 0.5 0.6 0.7 0.8 0.9]\n",
      "%：  [0 1 2 0 1 2 0 1 2 0]\n",
      "//： [0 0 0 1 1 1 2 2 2 3]\n",
      "**： [  0   1   8  27  64 125 216 343 512 729]\n",
      "abs: [0 1 2 3 4 5 6 7 8 9]\n"
     ]
    }
   ],
   "source": [
    "print(\"+： \",x + 10)\n",
    "print(\"-： \",x - 10)\n",
    "print(\"*： \",x * 10)\n",
    "print(\"/： \",x / 10)\n",
    "print(\"%： \",x % 3)\n",
    "print(\"//：\",x // 3)#向下整除的值，如7//3 向下整除 即为 6//3 = 2\n",
    "print(\"**：\",x ** 3)\n",
    "print(\"abs:\",abs(x))"
   ]
  },
  {
   "cell_type": "code",
   "execution_count": 8,
   "id": "69e3158f",
   "metadata": {},
   "outputs": [
    {
     "name": "stdout",
     "output_type": "stream",
     "text": [
      "指数运算\n",
      "e^x [ 1.          2.71828183  7.3890561  20.08553692 54.59815003]\n",
      "2^x [ 1  2  4  8 16]\n",
      "3^x [ 1  3  9 27 81]\n",
      "\n",
      " 对数运算\n",
      "log10(x+1):  [0.         0.30103    0.47712125 0.60205999 0.69897   ]\n",
      "log2(x+1):  [0.         1.         1.5849625  2.         2.32192809]\n"
     ]
    }
   ],
   "source": [
    "#指数和对数计算\n",
    "x=np.arange(5)\n",
    "print(\"指数运算\")\n",
    "print(\"e^x\",np.exp(x))\n",
    "print(\"2^x\",np.power(2,x))\n",
    "print(\"3^x\",np.power(3,x))\n",
    "print(\"\\n\",\"对数运算\")\n",
    "print(\"log10(x+1): \",np.log10(x + 1))\n",
    "print(\"log2(x+1): \",np.log2(x + 1))"
   ]
  },
  {
   "cell_type": "code",
   "execution_count": 9,
   "id": "f2da1303",
   "metadata": {},
   "outputs": [
    {
     "data": {
      "text/plain": [
       "array([[4, 2, 6, 8, 0, 2, 0, 6, 9, 6]])"
      ]
     },
     "execution_count": 9,
     "metadata": {},
     "output_type": "execute_result"
    }
   ],
   "source": [
    "#最大值，最小值，均值....的计算\n",
    "x=np.random.randint(0,10,(1,10))\n",
    "x"
   ]
  },
  {
   "cell_type": "code",
   "execution_count": 10,
   "id": "d9fd7b8e",
   "metadata": {},
   "outputs": [
    {
     "data": {
      "text/plain": [
       "43"
      ]
     },
     "execution_count": 10,
     "metadata": {},
     "output_type": "execute_result"
    }
   ],
   "source": [
    "#数据求和\n",
    "np.sum(x)"
   ]
  },
  {
   "cell_type": "code",
   "execution_count": 11,
   "id": "e8575321",
   "metadata": {},
   "outputs": [
    {
     "data": {
      "text/plain": [
       "9"
      ]
     },
     "execution_count": 11,
     "metadata": {},
     "output_type": "execute_result"
    }
   ],
   "source": [
    "#最大值\n",
    "np.max(x)"
   ]
  },
  {
   "cell_type": "code",
   "execution_count": 12,
   "id": "07d66149",
   "metadata": {},
   "outputs": [
    {
     "data": {
      "text/plain": [
       "0"
      ]
     },
     "execution_count": 12,
     "metadata": {},
     "output_type": "execute_result"
    }
   ],
   "source": [
    "#最小值\n",
    "np.min(x)"
   ]
  },
  {
   "cell_type": "code",
   "execution_count": 13,
   "id": "fce1ed2f",
   "metadata": {},
   "outputs": [
    {
     "data": {
      "text/plain": [
       "4.3"
      ]
     },
     "execution_count": 13,
     "metadata": {},
     "output_type": "execute_result"
    }
   ],
   "source": [
    "#平均值\n",
    "np.mean(x)"
   ]
  },
  {
   "cell_type": "code",
   "execution_count": 14,
   "id": "018d69d8",
   "metadata": {},
   "outputs": [
    {
     "data": {
      "text/plain": [
       "3.034798181098704"
      ]
     },
     "execution_count": 14,
     "metadata": {},
     "output_type": "execute_result"
    }
   ],
   "source": [
    "#标准差\n",
    "np.std(x)"
   ]
  },
  {
   "cell_type": "code",
   "execution_count": 15,
   "id": "fc35b914",
   "metadata": {},
   "outputs": [
    {
     "data": {
      "text/plain": [
       "array([[2, 6, 6],\n",
       "       [0, 8, 3],\n",
       "       [0, 0, 2]])"
      ]
     },
     "execution_count": 15,
     "metadata": {},
     "output_type": "execute_result"
    }
   ],
   "source": [
    "#多维度数据的计算\n",
    "x=np.random.randint(0,10,(3,3))\n",
    "x"
   ]
  },
  {
   "cell_type": "code",
   "execution_count": 16,
   "id": "971f7a85",
   "metadata": {},
   "outputs": [
    {
     "data": {
      "text/plain": [
       "array([ 2, 14, 11])"
      ]
     },
     "execution_count": 16,
     "metadata": {},
     "output_type": "execute_result"
    }
   ],
   "source": [
    "#需要通过axis的值指定方向, 垂直方向\n",
    "np.sum(x,axis=0)"
   ]
  },
  {
   "cell_type": "code",
   "execution_count": 17,
   "id": "b821da34",
   "metadata": {},
   "outputs": [
    {
     "data": {
      "text/plain": [
       "array([14, 11,  2])"
      ]
     },
     "execution_count": 17,
     "metadata": {},
     "output_type": "execute_result"
    }
   ],
   "source": [
    "#水平方向\n",
    "np.sum(x,axis=1)"
   ]
  },
  {
   "cell_type": "code",
   "execution_count": 18,
   "id": "c33f2b86",
   "metadata": {},
   "outputs": [],
   "source": [
    "####----不同大小的数组运算-----####"
   ]
  },
  {
   "cell_type": "code",
   "execution_count": 19,
   "id": "99041ecd",
   "metadata": {},
   "outputs": [],
   "source": [
    "#前一节中介绍了 NumPy 如何通过通用函数的向量化操作来减少缓慢的 Python 循环， 另外一种向量化操作的方法是利用 NumPy 的广播\n",
    "#功能。 广播可以简单理解为用于不同大小数组的二进制通用函数（加、 减、 乘等） 的一组规则。"
   ]
  },
  {
   "cell_type": "code",
   "execution_count": 20,
   "id": "a63045a1",
   "metadata": {},
   "outputs": [
    {
     "data": {
      "text/plain": [
       "array([5, 6, 7])"
      ]
     },
     "execution_count": 20,
     "metadata": {},
     "output_type": "execute_result"
    }
   ],
   "source": [
    "a = np.array([0,1,2])\n",
    "b = np.array([5,5,5])\n",
    "a + b"
   ]
  },
  {
   "cell_type": "code",
   "execution_count": 21,
   "id": "736f5736",
   "metadata": {},
   "outputs": [],
   "source": [
    "#用于不同大小的数组。 \n",
    "#例如， 可以简单地将一个标量（可以认为是一个零维的数组） 和一个数组相加："
   ]
  },
  {
   "cell_type": "code",
   "execution_count": 22,
   "id": "26550cd3",
   "metadata": {},
   "outputs": [
    {
     "data": {
      "text/plain": [
       "array([5, 6, 7])"
      ]
     },
     "execution_count": 22,
     "metadata": {},
     "output_type": "execute_result"
    }
   ],
   "source": [
    "#可以认为这个操作是将数值 5 扩展或重复至数组 [5, 5, 5]， 然后执行加法。 \n",
    "a + 5"
   ]
  },
  {
   "cell_type": "code",
   "execution_count": 23,
   "id": "ba5943b1",
   "metadata": {},
   "outputs": [
    {
     "name": "stdout",
     "output_type": "stream",
     "text": [
      "[[ 1  2  3  4  5]\n",
      " [ 6  7  8  9 10]\n",
      " [11 12 13 14 15]]\n",
      "\n",
      " [[1 1 1 1 1]\n",
      " [1 1 1 1 1]\n",
      " [1 1 1 1 1]]\n"
     ]
    }
   ],
   "source": [
    "#高维数组运算\n",
    "a1 = np.arange(1,16).reshape((3,5))\n",
    "a2 = np.ones((3,5),dtype=int)\n",
    "print(a1)\n",
    "print(\"\\n\",a2)"
   ]
  },
  {
   "cell_type": "code",
   "execution_count": 24,
   "id": "cb2dba3a",
   "metadata": {},
   "outputs": [
    {
     "data": {
      "text/plain": [
       "array([[ 2,  3,  4,  5,  6],\n",
       "       [ 7,  8,  9, 10, 11],\n",
       "       [12, 13, 14, 15, 16]])"
      ]
     },
     "execution_count": 24,
     "metadata": {},
     "output_type": "execute_result"
    }
   ],
   "source": [
    "#同纬度的高维数组相加\n",
    "a1 + a2"
   ]
  },
  {
   "cell_type": "code",
   "execution_count": 25,
   "id": "92004a74",
   "metadata": {},
   "outputs": [
    {
     "data": {
      "text/plain": [
       "array([1., 1., 1., 1., 1.])"
      ]
     },
     "execution_count": 25,
     "metadata": {},
     "output_type": "execute_result"
    }
   ],
   "source": [
    "#不同维度\n",
    "a3 = np.ones(5)\n",
    "a3"
   ]
  },
  {
   "cell_type": "code",
   "execution_count": 26,
   "id": "73c190c7",
   "metadata": {},
   "outputs": [
    {
     "data": {
      "text/plain": [
       "array([[ 2.,  3.,  4.,  5.,  6.],\n",
       "       [ 7.,  8.,  9., 10., 11.],\n",
       "       [12., 13., 14., 15., 16.]])"
      ]
     },
     "execution_count": 26,
     "metadata": {},
     "output_type": "execute_result"
    }
   ],
   "source": [
    "a1 + a3"
   ]
  },
  {
   "cell_type": "code",
   "execution_count": 27,
   "id": "1595c5a6",
   "metadata": {},
   "outputs": [
    {
     "data": {
      "text/plain": [
       "array([[ 2,  3,  4,  5,  6],\n",
       "       [ 7,  8,  9, 10, 11],\n",
       "       [12, 13, 14, 15, 16]])"
      ]
     },
     "execution_count": 27,
     "metadata": {},
     "output_type": "execute_result"
    }
   ],
   "source": [
    "a4 = 1\n",
    "a1 + a4"
   ]
  },
  {
   "cell_type": "code",
   "execution_count": 28,
   "id": "2d85f221",
   "metadata": {},
   "outputs": [],
   "source": [
    "#不同数组相加，相加的数组的某个维度要和被加的相等"
   ]
  },
  {
   "cell_type": "code",
   "execution_count": 29,
   "id": "dabab23c",
   "metadata": {},
   "outputs": [
    {
     "data": {
      "text/plain": [
       "array([[1.],\n",
       "       [1.],\n",
       "       [1.]])"
      ]
     },
     "execution_count": 29,
     "metadata": {},
     "output_type": "execute_result"
    }
   ],
   "source": [
    "a5 = np.ones(3)[:,np.newaxis]\n",
    "a5"
   ]
  },
  {
   "cell_type": "code",
   "execution_count": 30,
   "id": "fea272bd",
   "metadata": {},
   "outputs": [
    {
     "data": {
      "text/plain": [
       "array([[ 2.,  3.,  4.,  5.,  6.],\n",
       "       [ 7.,  8.,  9., 10., 11.],\n",
       "       [12., 13., 14., 15., 16.]])"
      ]
     },
     "execution_count": 30,
     "metadata": {},
     "output_type": "execute_result"
    }
   ],
   "source": [
    "a1 + a5"
   ]
  },
  {
   "cell_type": "code",
   "execution_count": 31,
   "id": "c936fe22",
   "metadata": {},
   "outputs": [
    {
     "data": {
      "text/plain": [
       "array([[1., 1., 1., 1., 1.]])"
      ]
     },
     "execution_count": 31,
     "metadata": {},
     "output_type": "execute_result"
    }
   ],
   "source": [
    "a6 = np.ones(5)[np.newaxis,:]\n",
    "a6"
   ]
  },
  {
   "cell_type": "code",
   "execution_count": 32,
   "id": "e147f49b",
   "metadata": {},
   "outputs": [
    {
     "data": {
      "text/plain": [
       "array([[ 2.,  3.,  4.,  5.,  6.],\n",
       "       [ 7.,  8.,  9., 10., 11.],\n",
       "       [12., 13., 14., 15., 16.]])"
      ]
     },
     "execution_count": 32,
     "metadata": {},
     "output_type": "execute_result"
    }
   ],
   "source": [
    "a1 + a6"
   ]
  },
  {
   "cell_type": "code",
   "execution_count": 33,
   "id": "fe940387",
   "metadata": {},
   "outputs": [
    {
     "data": {
      "text/plain": [
       "array([[0, 1],\n",
       "       [2, 3],\n",
       "       [4, 5]])"
      ]
     },
     "execution_count": 33,
     "metadata": {},
     "output_type": "execute_result"
    }
   ],
   "source": [
    "a7 = np.arange(6).reshape(3,2)\n",
    "a7\n",
    "#无法相加，以为无法匹配维度"
   ]
  },
  {
   "cell_type": "code",
   "execution_count": 34,
   "id": "21e7521c",
   "metadata": {},
   "outputs": [],
   "source": [
    "#三个规则\n",
    "#规则 1： 如果两个数组的维度数不相同， 那么小维度数组的形状将会在最左边补 1。\n",
    "#规则 2： 如果两个数组的形状在任何一个维度上都不匹配， 那么数组的形状会沿着维度为 1 的维度扩展以匹配另外一个数组的形状。\n",
    "#规则 3： 如果两个数组的形状在任何一个维度上都不匹配并且没有任何一个维度等于 1， 那么会引发异常。"
   ]
  },
  {
   "cell_type": "code",
   "execution_count": 35,
   "id": "0e5a51c5",
   "metadata": {},
   "outputs": [
    {
     "data": {
      "text/plain": [
       "array([[0.19927251, 0.52175016, 0.06235894],\n",
       "       [0.41975503, 0.72267562, 0.34466395],\n",
       "       [0.02893029, 0.62294777, 0.20718657],\n",
       "       [0.64028828, 0.88155318, 0.24574171],\n",
       "       [0.2001945 , 0.27627994, 0.57157932],\n",
       "       [0.64960346, 0.09962495, 0.73804043],\n",
       "       [0.89543081, 0.52009981, 0.37979536],\n",
       "       [0.27562113, 0.0032048 , 0.79537271],\n",
       "       [0.53979742, 0.93055993, 0.98398222],\n",
       "       [0.89458649, 0.89245308, 0.44014415]])"
      ]
     },
     "execution_count": 35,
     "metadata": {},
     "output_type": "execute_result"
    }
   ],
   "source": [
    "#常见应用\n",
    "#数组的标准化\n",
    "x = np.random.random((10, 3))\n",
    "x"
   ]
  },
  {
   "cell_type": "code",
   "execution_count": 36,
   "id": "c59acfbe",
   "metadata": {},
   "outputs": [
    {
     "name": "stdout",
     "output_type": "stream",
     "text": [
      "mean:  [0.47434799 0.54711492 0.47688654]\n",
      "sd:  [0.28427834 0.31392991 0.2760446 ]\n"
     ]
    }
   ],
   "source": [
    "#对每列标准化\n",
    "means = np.mean(x,axis= 0)\n",
    "sd = np.std(x,axis=0)\n",
    "print(\"mean: \",means)\n",
    "print(\"sd: \",sd)"
   ]
  },
  {
   "cell_type": "code",
   "execution_count": 37,
   "id": "3abafffb",
   "metadata": {
    "scrolled": true
   },
   "outputs": [
    {
     "data": {
      "text/plain": [
       "array([[-0.96762727, -0.08079753, -1.50166893],\n",
       "       [-0.19204051,  0.55923532, -0.47898996],\n",
       "       [-1.56683658,  0.24155979, -0.97701591],\n",
       "       [ 0.58372469,  1.06532777, -0.83734594],\n",
       "       [-0.96438401, -0.86272435,  0.34303436],\n",
       "       [ 0.61649249, -1.42544547,  0.94605688],\n",
       "       [ 1.48123425, -0.08605461, -0.35172278],\n",
       "       [-0.69905733, -1.73258456,  1.15374899],\n",
       "       [ 0.23023008,  1.22143506,  1.83700638],\n",
       "       [ 1.4782642 ,  1.10004858, -0.13310309]])"
      ]
     },
     "execution_count": 37,
     "metadata": {},
     "output_type": "execute_result"
    }
   ],
   "source": [
    "#标准化\n",
    "x_scale = (x -means) / sd\n",
    "x_scale"
   ]
  },
  {
   "cell_type": "code",
   "execution_count": 38,
   "id": "41c62358",
   "metadata": {},
   "outputs": [
    {
     "data": {
      "text/plain": [
       "array([2.66453526e-15, 4.44089210e-16, 1.22124533e-15])"
      ]
     },
     "execution_count": 38,
     "metadata": {},
     "output_type": "execute_result"
    }
   ],
   "source": [
    "np.sum(x_scale,axis=0)"
   ]
  },
  {
   "cell_type": "code",
   "execution_count": 39,
   "id": "e8961ca1",
   "metadata": {},
   "outputs": [],
   "source": [
    "## 比较运算\n",
    "#NumPy 还实现了如 <（小于） 和 >（大于） 的逐元素比较的通用函数。 这些比较运算的结果是一个布尔数据类型的数组。 一共有 6 种标准的比较操作"
   ]
  },
  {
   "cell_type": "code",
   "execution_count": 40,
   "id": "e1c71863",
   "metadata": {},
   "outputs": [
    {
     "name": "stdout",
     "output_type": "stream",
     "text": [
      "[False False False  True  True]\n",
      "[ True  True False False False]\n",
      "[False False  True  True  True]\n",
      "[ True  True  True False False]\n",
      "[False False  True False False]\n",
      "[ True  True False  True  True]\n"
     ]
    }
   ],
   "source": [
    "x = np.array([1, 2, 3, 4, 5])\n",
    "print(x > 3)\n",
    "print(x < 3)\n",
    "print(x >= 3)\n",
    "print(x <= 3)\n",
    "print(x == 3)\n",
    "print(x != 3)"
   ]
  },
  {
   "cell_type": "code",
   "execution_count": 41,
   "id": "2b20dce4",
   "metadata": {},
   "outputs": [
    {
     "data": {
      "text/plain": [
       "array([False,  True, False, False, False])"
      ]
     },
     "execution_count": 41,
     "metadata": {},
     "output_type": "execute_result"
    }
   ],
   "source": [
    "#复合比较也是从可以的\n",
    "(2 * x) == (x ** 2)"
   ]
  },
  {
   "cell_type": "code",
   "execution_count": 42,
   "id": "58426ea9",
   "metadata": {},
   "outputs": [],
   "source": [
    "#运算符号与numpy内部函数对应表\n",
    "#== np.equal\n",
    "#!= np.not_equal\n",
    "#< np.less\n",
    "#<= np.less_equal\n",
    "#> np.greater \n",
    "#>= np.greater_equal"
   ]
  },
  {
   "cell_type": "code",
   "execution_count": 43,
   "id": "8a07d57f",
   "metadata": {},
   "outputs": [
    {
     "data": {
      "text/plain": [
       "array([[ 0,  1,  2,  3,  4],\n",
       "       [ 5,  6,  7,  8,  9],\n",
       "       [10, 11, 12, 13, 14]])"
      ]
     },
     "execution_count": 43,
     "metadata": {},
     "output_type": "execute_result"
    }
   ],
   "source": [
    "#统计比较结果\n",
    "x2 = np.arange(15).reshape((3,5))\n",
    "x2"
   ]
  },
  {
   "cell_type": "code",
   "execution_count": 44,
   "id": "bc1cb5b6",
   "metadata": {},
   "outputs": [],
   "source": [
    "#统计有多少值小于6？"
   ]
  },
  {
   "cell_type": "code",
   "execution_count": 45,
   "id": "126e73fc",
   "metadata": {},
   "outputs": [
    {
     "name": "stdout",
     "output_type": "stream",
     "text": [
      "[2 1 1 1 1]\n",
      "[5 1 0]\n",
      "6\n"
     ]
    }
   ],
   "source": [
    "#方法1，原理，Ture为1 False为0 和R一样\n",
    "#对列统计\n",
    "print(np.count_nonzero(x2 < 6,axis=0))\n",
    "#对行统计\n",
    "print(np.count_nonzero(x2 <6,axis = 1))\n",
    "#全部统计\n",
    "print(np.count_nonzero(x2 < 6))"
   ]
  },
  {
   "cell_type": "code",
   "execution_count": 46,
   "id": "7733e353",
   "metadata": {},
   "outputs": [
    {
     "name": "stdout",
     "output_type": "stream",
     "text": [
      "[2 1 1 1 1]\n",
      "[5 1 0]\n",
      "6\n"
     ]
    }
   ],
   "source": [
    "#方法2，原理，Ture为1 False为0 和R一样\n",
    "#对列统计\n",
    "print(np.sum(x2 < 6,axis=0))\n",
    "#对行统计\n",
    "print(np.sum(x2 <6,axis = 1))\n",
    "#全部统计\n",
    "print(np.sum(x2 < 6))"
   ]
  },
  {
   "cell_type": "code",
   "execution_count": 47,
   "id": "96cac778",
   "metadata": {},
   "outputs": [
    {
     "data": {
      "text/plain": [
       "array([ True,  True,  True,  True,  True])"
      ]
     },
     "execution_count": 47,
     "metadata": {},
     "output_type": "execute_result"
    }
   ],
   "source": [
    "#快速检查任意或者所有这些值是否为 True,np.all() np.any()\n",
    "#np.any 同样可以指定行列，axis=0 返回值为检查每列是否存在大于6的值\n",
    "np.any(x2 > 6,axis=0)"
   ]
  },
  {
   "cell_type": "code",
   "execution_count": 48,
   "id": "fa18620c",
   "metadata": {},
   "outputs": [
    {
     "data": {
      "text/plain": [
       "array([False, False, False, False, False])"
      ]
     },
     "execution_count": 48,
     "metadata": {},
     "output_type": "execute_result"
    }
   ],
   "source": [
    "#np.all()检查是否都大于某个数，同样可以指定行列\n",
    "np.all(x2 > 6,axis = 0)"
   ]
  },
  {
   "cell_type": "code",
   "execution_count": 49,
   "id": "56e2628e",
   "metadata": {},
   "outputs": [
    {
     "data": {
      "text/plain": [
       "array([[ 0,  1,  2,  3,  4],\n",
       "       [ 5,  6,  7,  8,  9],\n",
       "       [10, 11, 12, 13, 14]])"
      ]
     },
     "execution_count": 49,
     "metadata": {},
     "output_type": "execute_result"
    }
   ],
   "source": [
    "#逻辑运算符\n",
    "#& ^ | ...\n",
    "x2"
   ]
  },
  {
   "cell_type": "code",
   "execution_count": 50,
   "id": "e0afc1c5",
   "metadata": {},
   "outputs": [
    {
     "data": {
      "text/plain": [
       "array([1, 0, 0, 1, 1])"
      ]
     },
     "execution_count": 50,
     "metadata": {},
     "output_type": "execute_result"
    }
   ],
   "source": [
    "#&\n",
    "(x2 > 2) & (x2 < 6)\n",
    "np.sum(((x2 > 2) & (x2 < 6)),axis=0)"
   ]
  },
  {
   "cell_type": "code",
   "execution_count": 51,
   "id": "351a9d48",
   "metadata": {},
   "outputs": [
    {
     "data": {
      "text/plain": [
       "array([3, 3, 3, 3, 3])"
      ]
     },
     "execution_count": 51,
     "metadata": {},
     "output_type": "execute_result"
    }
   ],
   "source": [
    "#|\n",
    "(x2 > 2) | (x2 < 6)\n",
    "np.sum(((x2 > 2) | (x2 < 6)),axis=0)"
   ]
  },
  {
   "cell_type": "code",
   "execution_count": 52,
   "id": "9979137a",
   "metadata": {},
   "outputs": [
    {
     "data": {
      "text/plain": [
       "array([ 3,  4,  5,  6,  7,  8,  9, 10, 11, 12, 13, 14])"
      ]
     },
     "execution_count": 52,
     "metadata": {},
     "output_type": "execute_result"
    }
   ],
   "source": [
    "#数据索引\n",
    "x2[x2 > 2]"
   ]
  },
  {
   "cell_type": "code",
   "execution_count": 53,
   "id": "1c912939",
   "metadata": {},
   "outputs": [
    {
     "data": {
      "text/plain": [
       "array([ 3,  5,  6,  7,  8, 10, 11, 12, 13])"
      ]
     },
     "execution_count": 53,
     "metadata": {},
     "output_type": "execute_result"
    }
   ],
   "source": [
    "x2[(x2 > 2) & (x < 5)]"
   ]
  },
  {
   "cell_type": "code",
   "execution_count": 54,
   "id": "71d8bec6",
   "metadata": {},
   "outputs": [
    {
     "data": {
      "text/plain": [
       "array([ 0,  1,  2,  3,  4,  5,  6,  7,  8,  9, 10, 11, 12, 13, 14])"
      ]
     },
     "execution_count": 54,
     "metadata": {},
     "output_type": "execute_result"
    }
   ],
   "source": [
    "x2[(x2 > 2) | (x < 5)]"
   ]
  },
  {
   "cell_type": "code",
   "execution_count": 60,
   "id": "e0c80fd2",
   "metadata": {},
   "outputs": [
    {
     "data": {
      "text/plain": [
       "array([17, 61, 56, 15, 71,  2, 23, 45, 68, 96])"
      ]
     },
     "execution_count": 60,
     "metadata": {},
     "output_type": "execute_result"
    }
   ],
   "source": [
    "#复杂索引：意味着传递一个索引数组来一次性获得多个数组元素\n",
    "y=np.random.randint(0,100,10)\n",
    "y"
   ]
  },
  {
   "cell_type": "code",
   "execution_count": 62,
   "id": "68b7b047",
   "metadata": {},
   "outputs": [
    {
     "data": {
      "text/plain": [
       "[56, 68, 45]"
      ]
     },
     "execution_count": 62,
     "metadata": {},
     "output_type": "execute_result"
    }
   ],
   "source": [
    "#获得三个不同的元素\n",
    "[y[2],y[8],y[-3]]"
   ]
  },
  {
   "cell_type": "code",
   "execution_count": 67,
   "id": "028b4caa",
   "metadata": {},
   "outputs": [
    {
     "name": "stdout",
     "output_type": "stream",
     "text": [
      "[56 68 45]\n",
      "[56 68 45]\n"
     ]
    }
   ],
   "source": [
    "print(y[[2,8,-3]])\n",
    "#或者将[2,8,-3]赋给一个变量\n",
    "dd=[2,8,-3]\n",
    "print(y[dd])"
   ]
  },
  {
   "cell_type": "code",
   "execution_count": 69,
   "id": "963398db",
   "metadata": {},
   "outputs": [
    {
     "data": {
      "text/plain": [
       "array([[15, 45],\n",
       "       [71,  2]])"
      ]
     },
     "execution_count": 69,
     "metadata": {},
     "output_type": "execute_result"
    }
   ],
   "source": [
    "#结果的形状与索引数组的形状一致， 而不是与被索引数组的形状一致\n",
    "ind = np.array([[3, 7],\n",
    "                [4, 5]])\n",
    "y[ind]"
   ]
  },
  {
   "cell_type": "code",
   "execution_count": 70,
   "id": "f844462a",
   "metadata": {},
   "outputs": [
    {
     "data": {
      "text/plain": [
       "array([[ 0,  1,  2,  3],\n",
       "       [ 4,  5,  6,  7],\n",
       "       [ 8,  9, 10, 11]])"
      ]
     },
     "execution_count": 70,
     "metadata": {},
     "output_type": "execute_result"
    }
   ],
   "source": [
    "#对多个维度进行索引时\n",
    "y2 = np.arange(12).reshape((3, 4))\n",
    "y2"
   ]
  },
  {
   "cell_type": "code",
   "execution_count": 73,
   "id": "f5da8939",
   "metadata": {},
   "outputs": [
    {
     "data": {
      "text/plain": [
       "array([ 2,  5, 11])"
      ]
     },
     "execution_count": 73,
     "metadata": {},
     "output_type": "execute_result"
    }
   ],
   "source": [
    "row = np.array([0, 1, 2])\n",
    "col = np.array([2, 1, 3])\n",
    "y2[row, col]\n",
    "#第0行的第二个元素，第1行的第一个元素，第二行的第三个元素\n",
    "#结果的第一个值是 y[0, 2]， 第二个值是 y[1, 1]， 第三个值是 y[2, 3]。 "
   ]
  },
  {
   "cell_type": "code",
   "execution_count": null,
   "id": "887c5405",
   "metadata": {},
   "outputs": [],
   "source": []
  },
  {
   "cell_type": "code",
   "execution_count": null,
   "id": "ecdbd127",
   "metadata": {},
   "outputs": [],
   "source": []
  },
  {
   "cell_type": "code",
   "execution_count": null,
   "id": "81d04e56",
   "metadata": {},
   "outputs": [],
   "source": []
  },
  {
   "cell_type": "code",
   "execution_count": null,
   "id": "0fab50b4",
   "metadata": {},
   "outputs": [],
   "source": []
  },
  {
   "cell_type": "code",
   "execution_count": null,
   "id": "552a2de5",
   "metadata": {},
   "outputs": [],
   "source": []
  }
 ],
 "metadata": {
  "kernelspec": {
   "display_name": "Python 3",
   "language": "python",
   "name": "python3"
  },
  "language_info": {
   "codemirror_mode": {
    "name": "ipython",
    "version": 3
   },
   "file_extension": ".py",
   "mimetype": "text/x-python",
   "name": "python",
   "nbconvert_exporter": "python",
   "pygments_lexer": "ipython3",
   "version": "3.8.8"
  }
 },
 "nbformat": 4,
 "nbformat_minor": 5
}
