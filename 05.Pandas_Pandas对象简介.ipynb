{
 "cells": [
  {
   "cell_type": "code",
   "execution_count": 2,
   "id": "6d0071fb",
   "metadata": {},
   "outputs": [],
   "source": [
    "import numpy as np\n",
    "import pandas as pd"
   ]
  },
  {
   "cell_type": "code",
   "execution_count": 3,
   "id": "09b78bf5",
   "metadata": {},
   "outputs": [],
   "source": [
    "##--------------------------##\n",
    "## -----Pandas对象简介-------##\n",
    "##--------------------------##"
   ]
  },
  {
   "cell_type": "code",
   "execution_count": 4,
   "id": "d8a86758",
   "metadata": {},
   "outputs": [
    {
     "data": {
      "text/plain": [
       "0    0.12\n",
       "1    0.24\n",
       "2    0.36\n",
       "3    0.60\n",
       "dtype: float64"
      ]
     },
     "execution_count": 4,
     "metadata": {},
     "output_type": "execute_result"
    }
   ],
   "source": [
    "##------Pandas的Series对象--------##\n",
    "\n",
    "#Pandas 的 Series 对象是一个带索引数据构成的一维数组。 可以用一个数组创建 Series 对象\n",
    "data = pd.Series([0.12,0.24,0.36,0.60])\n",
    "data"
   ]
  },
  {
   "cell_type": "code",
   "execution_count": 5,
   "id": "7a98cefa",
   "metadata": {},
   "outputs": [
    {
     "data": {
      "text/plain": [
       "RangeIndex(start=0, stop=4, step=1)"
      ]
     },
     "execution_count": 5,
     "metadata": {},
     "output_type": "execute_result"
    }
   ],
   "source": [
    "#可以通过查看Series对象的index和values属性获取数据\n",
    "#index属性\n",
    "data.index"
   ]
  },
  {
   "cell_type": "code",
   "execution_count": 6,
   "id": "f92015fa",
   "metadata": {},
   "outputs": [
    {
     "data": {
      "text/plain": [
       "array([0.12, 0.24, 0.36, 0.6 ])"
      ]
     },
     "execution_count": 6,
     "metadata": {},
     "output_type": "execute_result"
    }
   ],
   "source": [
    "#values属性\n",
    "data.values"
   ]
  },
  {
   "cell_type": "code",
   "execution_count": 7,
   "id": "4d74724b",
   "metadata": {},
   "outputs": [
    {
     "name": "stdout",
     "output_type": "stream",
     "text": [
      "0.24\n",
      "1    0.24\n",
      "2    0.36\n",
      "dtype: float64\n"
     ]
    }
   ],
   "source": [
    "#使用索引查看数据\n",
    "print(data[1])\n",
    "print(data[1:3])"
   ]
  },
  {
   "cell_type": "code",
   "execution_count": 8,
   "id": "f910bcc5",
   "metadata": {},
   "outputs": [
    {
     "data": {
      "text/plain": [
       "T1    3.5\n",
       "T2    5.6\n",
       "T2    7.8\n",
       "T4    3.3\n",
       "dtype: float64"
      ]
     },
     "execution_count": 8,
     "metadata": {},
     "output_type": "execute_result"
    }
   ],
   "source": [
    "####01. Serise是通用的NumPy数组#####\n",
    "\n",
    "#pandas和numpy的本质区别是索引： \n",
    "#NumPy 数组通过隐式定义的整数索引获取数值， \n",
    "#Pandas 的 Series 对象用一种显式定义的索引与数值关联。例如， 索引不再仅仅是整数， 还可以是任意想要的类型。 \n",
    "#如果需要， 完全可以用字符串定义索引\n",
    "data2=pd.Series([3.5,5.6,7.8,3.3],\n",
    "               index = [\"T1\",\"T2\",\"T2\",\"T4\"])\n",
    "data2"
   ]
  },
  {
   "cell_type": "code",
   "execution_count": 9,
   "id": "3e64b59d",
   "metadata": {},
   "outputs": [
    {
     "data": {
      "text/plain": [
       "T2    5.6\n",
       "T2    7.8\n",
       "dtype: float64"
      ]
     },
     "execution_count": 9,
     "metadata": {},
     "output_type": "execute_result"
    }
   ],
   "source": [
    "#同时可是使用字符索引\n",
    "data2[\"T2\"]"
   ]
  },
  {
   "cell_type": "code",
   "execution_count": 10,
   "id": "93da26e1",
   "metadata": {},
   "outputs": [
    {
     "data": {
      "text/plain": [
       "T2    5.6\n",
       "T2    7.8\n",
       "dtype: float64"
      ]
     },
     "execution_count": 10,
     "metadata": {},
     "output_type": "execute_result"
    }
   ],
   "source": [
    "data2[1:3]"
   ]
  },
  {
   "cell_type": "code",
   "execution_count": 11,
   "id": "b9393c67",
   "metadata": {},
   "outputs": [
    {
     "data": {
      "text/plain": [
       "7    0.1\n",
       "7    0.2\n",
       "6    0.3\n",
       "8    0.4\n",
       "dtype: float64"
      ]
     },
     "execution_count": 11,
     "metadata": {},
     "output_type": "execute_result"
    }
   ],
   "source": [
    "#也可以使用不连续或不按顺序的索引\n",
    "data3=pd.Series([0.1,0.2,0.3,0.4],\n",
    "               index = [7,7,6,8])\n",
    "data3"
   ]
  },
  {
   "cell_type": "code",
   "execution_count": 12,
   "id": "b1a7f15f",
   "metadata": {},
   "outputs": [
    {
     "data": {
      "text/plain": [
       "7    0.1\n",
       "7    0.2\n",
       "dtype: float64"
      ]
     },
     "execution_count": 12,
     "metadata": {},
     "output_type": "execute_result"
    }
   ],
   "source": [
    "data3[7]"
   ]
  },
  {
   "cell_type": "code",
   "execution_count": 13,
   "id": "8de1d594",
   "metadata": {},
   "outputs": [],
   "source": [
    "#####Series是特殊的字典######"
   ]
  },
  {
   "cell_type": "code",
   "execution_count": 14,
   "id": "af044c4c",
   "metadata": {},
   "outputs": [
    {
     "data": {
      "text/plain": [
       "{'pH': 5.7, 'Heigh': 3.3, 'Weight': 15, 'SPAD': 20}"
      ]
     },
     "execution_count": 14,
     "metadata": {},
     "output_type": "execute_result"
    }
   ],
   "source": [
    "#创建一个字典\n",
    "dic = {'pH':5.7,\n",
    "      'Heigh':3.3,\n",
    "      'Weight':15,\n",
    "      'SPAD':20}\n",
    "dic"
   ]
  },
  {
   "cell_type": "code",
   "execution_count": 15,
   "id": "f05b18aa",
   "metadata": {},
   "outputs": [
    {
     "data": {
      "text/plain": [
       "pH         5.7\n",
       "Heigh      3.3\n",
       "Weight    15.0\n",
       "SPAD      20.0\n",
       "dtype: float64"
      ]
     },
     "execution_count": 15,
     "metadata": {},
     "output_type": "execute_result"
    }
   ],
   "source": [
    "#将字典转换为series对象\n",
    "#可以直接用 Python 的字典创建一个 Series 对象，Series 对象与字典的类比更加清晰\n",
    "dic2=pd.Series(dic)\n",
    "dic2"
   ]
  },
  {
   "cell_type": "code",
   "execution_count": 16,
   "id": "32ca723a",
   "metadata": {},
   "outputs": [
    {
     "name": "stdout",
     "output_type": "stream",
     "text": [
      "15.0\n",
      "15.0\n"
     ]
    }
   ],
   "source": [
    "#仍然可以使用字符或index进行索引\n",
    "print(dic2[2])\n",
    "print(dic2[\"Weight\"])"
   ]
  },
  {
   "cell_type": "code",
   "execution_count": 17,
   "id": "a3a10fd8",
   "metadata": {},
   "outputs": [],
   "source": [
    "#####创建Series对象######\n",
    "\n",
    "#pd.Series(data, index=index)\n",
    "#其中index是可选参数"
   ]
  },
  {
   "cell_type": "code",
   "execution_count": 18,
   "id": "2c430278",
   "metadata": {},
   "outputs": [
    {
     "data": {
      "text/plain": [
       "0    2\n",
       "1    4\n",
       "2    6\n",
       "dtype: int64"
      ]
     },
     "execution_count": 18,
     "metadata": {},
     "output_type": "execute_result"
    }
   ],
   "source": [
    "#data 可以是列表或 NumPy 数组， 这时 index 默认值为整数序列\n",
    "pd.Series([2, 4, 6])"
   ]
  },
  {
   "cell_type": "code",
   "execution_count": 19,
   "id": "46952bc8",
   "metadata": {},
   "outputs": [
    {
     "data": {
      "text/plain": [
       "12     1\n",
       "33     1\n",
       "123    1\n",
       "11     1\n",
       "dtype: int64"
      ]
     },
     "execution_count": 19,
     "metadata": {},
     "output_type": "execute_result"
    }
   ],
   "source": [
    "#data也可以是标量, 会重复填充到每个索引上\n",
    "pd.Series(1,index=[12,33,123,11])"
   ]
  },
  {
   "cell_type": "code",
   "execution_count": 20,
   "id": "39c2888d",
   "metadata": {},
   "outputs": [
    {
     "data": {
      "text/plain": [
       "2    a\n",
       "1    b\n",
       "3    c\n",
       "dtype: object"
      ]
     },
     "execution_count": 20,
     "metadata": {},
     "output_type": "execute_result"
    }
   ],
   "source": [
    "#data 还可以是一个字典， index默认是排序是字典的键：\n",
    "pd.Series({2:'a', 1:'b', 3:'c'})"
   ]
  },
  {
   "cell_type": "code",
   "execution_count": 21,
   "id": "1dc4dbe3",
   "metadata": {},
   "outputs": [],
   "source": [
    "##------Pandas的DataFram对象--------##"
   ]
  },
  {
   "cell_type": "code",
   "execution_count": 22,
   "id": "17e48ee5",
   "metadata": {},
   "outputs": [],
   "source": [
    "#Pandas 的另一个基础数据结构是 DataFrame。 \n",
    "#与Series 对象一样， DataFrame既可以作为一个通用型 NumPy 数组，也可以看作特殊的 Python 字典。 "
   ]
  },
  {
   "cell_type": "code",
   "execution_count": 23,
   "id": "a4734c6a",
   "metadata": {},
   "outputs": [],
   "source": [
    "#####DataFrame是通用的NumPy数组######\n",
    "\n",
    "#如果将 Series 类比为带灵活索引的一维数组， 那么 DataFrame 就可以看作是一种既有灵活的行索引， 又有灵活列名的二维数组。 就像你\n",
    "#可以把二维数组看成是有序排列的一维数组一样， 你也可以把 DataFrame 看成是有序排列的若干 Series 对象。 这里的“排列”指的是它们拥有共同的索引"
   ]
  },
  {
   "cell_type": "code",
   "execution_count": 24,
   "id": "08b078ef",
   "metadata": {},
   "outputs": [
    {
     "data": {
      "text/plain": [
       "California    423967\n",
       "Texas         695662\n",
       "New York      141297\n",
       "Florida       170312\n",
       "Illinois      149995\n",
       "dtype: int64"
      ]
     },
     "execution_count": 24,
     "metadata": {},
     "output_type": "execute_result"
    }
   ],
   "source": [
    "#首先创建一个新的Series对象 area\n",
    "area_dict = {'California': 423967, \n",
    "             'Texas': 695662, \n",
    "             'New York': 141297,\n",
    "             'Florida': 170312, \n",
    "             'Illinois': 149995}\n",
    "area = pd.Series(area_dict)\n",
    "area"
   ]
  },
  {
   "cell_type": "code",
   "execution_count": 25,
   "id": "4c28d063",
   "metadata": {},
   "outputs": [
    {
     "data": {
      "text/plain": [
       "California    38332521\n",
       "Texas         26448193\n",
       "New York      19651127\n",
       "Florida       19552860\n",
       "Illinois      12882135\n",
       "dtype: int64"
      ]
     },
     "execution_count": 25,
     "metadata": {},
     "output_type": "execute_result"
    }
   ],
   "source": [
    "#再创建一个新的Series对象 population\n",
    "population_dict = {'California': 38332521,\n",
    "                   'Texas': 26448193,\n",
    "                   'New York': 19651127,\n",
    "                   'Florida': 19552860,\n",
    "                   'Illinois': 12882135}\n",
    "population = pd.Series(population_dict)\n",
    "population"
   ]
  },
  {
   "cell_type": "code",
   "execution_count": 26,
   "id": "bde06877",
   "metadata": {},
   "outputs": [
    {
     "data": {
      "text/html": [
       "<div>\n",
       "<style scoped>\n",
       "    .dataframe tbody tr th:only-of-type {\n",
       "        vertical-align: middle;\n",
       "    }\n",
       "\n",
       "    .dataframe tbody tr th {\n",
       "        vertical-align: top;\n",
       "    }\n",
       "\n",
       "    .dataframe thead th {\n",
       "        text-align: right;\n",
       "    }\n",
       "</style>\n",
       "<table border=\"1\" class=\"dataframe\">\n",
       "  <thead>\n",
       "    <tr style=\"text-align: right;\">\n",
       "      <th></th>\n",
       "      <th>AREA</th>\n",
       "      <th>POPULATION</th>\n",
       "    </tr>\n",
       "  </thead>\n",
       "  <tbody>\n",
       "    <tr>\n",
       "      <th>California</th>\n",
       "      <td>423967</td>\n",
       "      <td>38332521</td>\n",
       "    </tr>\n",
       "    <tr>\n",
       "      <th>Texas</th>\n",
       "      <td>695662</td>\n",
       "      <td>26448193</td>\n",
       "    </tr>\n",
       "    <tr>\n",
       "      <th>New York</th>\n",
       "      <td>141297</td>\n",
       "      <td>19651127</td>\n",
       "    </tr>\n",
       "    <tr>\n",
       "      <th>Florida</th>\n",
       "      <td>170312</td>\n",
       "      <td>19552860</td>\n",
       "    </tr>\n",
       "    <tr>\n",
       "      <th>Illinois</th>\n",
       "      <td>149995</td>\n",
       "      <td>12882135</td>\n",
       "    </tr>\n",
       "  </tbody>\n",
       "</table>\n",
       "</div>"
      ],
      "text/plain": [
       "              AREA  POPULATION\n",
       "California  423967    38332521\n",
       "Texas       695662    26448193\n",
       "New York    141297    19651127\n",
       "Florida     170312    19552860\n",
       "Illinois    149995    12882135"
      ]
     },
     "execution_count": 26,
     "metadata": {},
     "output_type": "execute_result"
    }
   ],
   "source": [
    "#创建一个DataFrame对象,用一个字典创建一个包含这些信息的二维对象\n",
    "states=pd.DataFrame({\"AREA\":area,\"POPULATION\":population})\n",
    "states"
   ]
  },
  {
   "cell_type": "code",
   "execution_count": 27,
   "id": "c17217e2",
   "metadata": {},
   "outputs": [
    {
     "data": {
      "text/plain": [
       "Index(['California', 'Texas', 'New York', 'Florida', 'Illinois'], dtype='object')"
      ]
     },
     "execution_count": 27,
     "metadata": {},
     "output_type": "execute_result"
    }
   ],
   "source": [
    "#与series类似，DataFrame同样可以通过访问index或values属性获取数据\n",
    "states.index"
   ]
  },
  {
   "cell_type": "code",
   "execution_count": 28,
   "id": "5f461e9e",
   "metadata": {},
   "outputs": [
    {
     "data": {
      "text/plain": [
       "array([[  423967, 38332521],\n",
       "       [  695662, 26448193],\n",
       "       [  141297, 19651127],\n",
       "       [  170312, 19552860],\n",
       "       [  149995, 12882135]], dtype=int64)"
      ]
     },
     "execution_count": 28,
     "metadata": {},
     "output_type": "execute_result"
    }
   ],
   "source": [
    "states.values"
   ]
  },
  {
   "cell_type": "code",
   "execution_count": 29,
   "id": "9b29f376",
   "metadata": {},
   "outputs": [
    {
     "data": {
      "text/plain": [
       "Index(['AREA', 'POPULATION'], dtype='object')"
      ]
     },
     "execution_count": 29,
     "metadata": {},
     "output_type": "execute_result"
    }
   ],
   "source": [
    "#DataFrame 还有一个 columns 属性， 是存放列标签的 Index 对象\n",
    "states.columns"
   ]
  },
  {
   "cell_type": "code",
   "execution_count": 30,
   "id": "701f18aa",
   "metadata": {},
   "outputs": [],
   "source": [
    "#####DataFrame是特殊的字典######"
   ]
  },
  {
   "cell_type": "code",
   "execution_count": 31,
   "id": "1b57e64d",
   "metadata": {},
   "outputs": [
    {
     "data": {
      "text/plain": [
       "California    423967\n",
       "Texas         695662\n",
       "New York      141297\n",
       "Florida       170312\n",
       "Illinois      149995\n",
       "Name: AREA, dtype: int64"
      ]
     },
     "execution_count": 31,
     "metadata": {},
     "output_type": "execute_result"
    }
   ],
   "source": [
    "#与 Series 类似， 我们也可以把 DataFrame 看成一种特殊的字典。 字典是一个键映射一个值， 而 DataFrame 是一列映射一个 Series 的数据。 \n",
    "#例如， 通过 'area' 的列属性可以返回包含面积数据的 Series 对象\n",
    "states[\"AREA\"]"
   ]
  },
  {
   "cell_type": "code",
   "execution_count": 32,
   "id": "b1541b7c",
   "metadata": {},
   "outputs": [],
   "source": [
    "#####创建DataFram对象######"
   ]
  },
  {
   "cell_type": "code",
   "execution_count": 33,
   "id": "90a9981a",
   "metadata": {},
   "outputs": [
    {
     "data": {
      "text/html": [
       "<div>\n",
       "<style scoped>\n",
       "    .dataframe tbody tr th:only-of-type {\n",
       "        vertical-align: middle;\n",
       "    }\n",
       "\n",
       "    .dataframe tbody tr th {\n",
       "        vertical-align: top;\n",
       "    }\n",
       "\n",
       "    .dataframe thead th {\n",
       "        text-align: right;\n",
       "    }\n",
       "</style>\n",
       "<table border=\"1\" class=\"dataframe\">\n",
       "  <thead>\n",
       "    <tr style=\"text-align: right;\">\n",
       "      <th></th>\n",
       "      <th>Populatuin</th>\n",
       "    </tr>\n",
       "  </thead>\n",
       "  <tbody>\n",
       "    <tr>\n",
       "      <th>California</th>\n",
       "      <td>38332521</td>\n",
       "    </tr>\n",
       "    <tr>\n",
       "      <th>Texas</th>\n",
       "      <td>26448193</td>\n",
       "    </tr>\n",
       "    <tr>\n",
       "      <th>New York</th>\n",
       "      <td>19651127</td>\n",
       "    </tr>\n",
       "    <tr>\n",
       "      <th>Florida</th>\n",
       "      <td>19552860</td>\n",
       "    </tr>\n",
       "    <tr>\n",
       "      <th>Illinois</th>\n",
       "      <td>12882135</td>\n",
       "    </tr>\n",
       "  </tbody>\n",
       "</table>\n",
       "</div>"
      ],
      "text/plain": [
       "            Populatuin\n",
       "California    38332521\n",
       "Texas         26448193\n",
       "New York      19651127\n",
       "Florida       19552860\n",
       "Illinois      12882135"
      ]
     },
     "execution_count": 33,
     "metadata": {},
     "output_type": "execute_result"
    }
   ],
   "source": [
    "#(1) 通过单个 Series 对象创建。 DataFrame 是一组 Series 对象的集合， 可以用单个 Series 创建一个单列的 DataFrame：\n",
    "pd.DataFrame(population,columns=[\"Populatuin\"])"
   ]
  },
  {
   "cell_type": "code",
   "execution_count": 34,
   "id": "6806ad23",
   "metadata": {},
   "outputs": [
    {
     "data": {
      "text/html": [
       "<div>\n",
       "<style scoped>\n",
       "    .dataframe tbody tr th:only-of-type {\n",
       "        vertical-align: middle;\n",
       "    }\n",
       "\n",
       "    .dataframe tbody tr th {\n",
       "        vertical-align: top;\n",
       "    }\n",
       "\n",
       "    .dataframe thead th {\n",
       "        text-align: right;\n",
       "    }\n",
       "</style>\n",
       "<table border=\"1\" class=\"dataframe\">\n",
       "  <thead>\n",
       "    <tr style=\"text-align: right;\">\n",
       "      <th></th>\n",
       "      <th>a</th>\n",
       "      <th>b</th>\n",
       "    </tr>\n",
       "  </thead>\n",
       "  <tbody>\n",
       "    <tr>\n",
       "      <th>0</th>\n",
       "      <td>1</td>\n",
       "      <td>2</td>\n",
       "    </tr>\n",
       "    <tr>\n",
       "      <th>1</th>\n",
       "      <td>3</td>\n",
       "      <td>4</td>\n",
       "    </tr>\n",
       "  </tbody>\n",
       "</table>\n",
       "</div>"
      ],
      "text/plain": [
       "   a  b\n",
       "0  1  2\n",
       "1  3  4"
      ]
     },
     "execution_count": 34,
     "metadata": {},
     "output_type": "execute_result"
    }
   ],
   "source": [
    "#(2) 通过字典列表创建, 即使字典中有些键不存在， Pandas 也会用缺失值 NaN\n",
    "pd.DataFrame([{\"a\":1,\"b\":2},{\"a\":3,\"b\":4}])"
   ]
  },
  {
   "cell_type": "code",
   "execution_count": 35,
   "id": "623bfd71",
   "metadata": {},
   "outputs": [
    {
     "data": {
      "text/html": [
       "<div>\n",
       "<style scoped>\n",
       "    .dataframe tbody tr th:only-of-type {\n",
       "        vertical-align: middle;\n",
       "    }\n",
       "\n",
       "    .dataframe tbody tr th {\n",
       "        vertical-align: top;\n",
       "    }\n",
       "\n",
       "    .dataframe thead th {\n",
       "        text-align: right;\n",
       "    }\n",
       "</style>\n",
       "<table border=\"1\" class=\"dataframe\">\n",
       "  <thead>\n",
       "    <tr style=\"text-align: right;\">\n",
       "      <th></th>\n",
       "      <th>a</th>\n",
       "      <th>b</th>\n",
       "      <th>c</th>\n",
       "    </tr>\n",
       "  </thead>\n",
       "  <tbody>\n",
       "    <tr>\n",
       "      <th>0</th>\n",
       "      <td>1.0</td>\n",
       "      <td>2</td>\n",
       "      <td>NaN</td>\n",
       "    </tr>\n",
       "    <tr>\n",
       "      <th>1</th>\n",
       "      <td>NaN</td>\n",
       "      <td>3</td>\n",
       "      <td>4.0</td>\n",
       "    </tr>\n",
       "  </tbody>\n",
       "</table>\n",
       "</div>"
      ],
      "text/plain": [
       "     a  b    c\n",
       "0  1.0  2  NaN\n",
       "1  NaN  3  4.0"
      ]
     },
     "execution_count": 35,
     "metadata": {},
     "output_type": "execute_result"
    }
   ],
   "source": [
    "pd.DataFrame([{'a': 1, 'b': 2}, \n",
    "              {'b': 3, 'c': 4}])"
   ]
  },
  {
   "cell_type": "code",
   "execution_count": 36,
   "id": "0af84445",
   "metadata": {},
   "outputs": [
    {
     "data": {
      "text/html": [
       "<div>\n",
       "<style scoped>\n",
       "    .dataframe tbody tr th:only-of-type {\n",
       "        vertical-align: middle;\n",
       "    }\n",
       "\n",
       "    .dataframe tbody tr th {\n",
       "        vertical-align: top;\n",
       "    }\n",
       "\n",
       "    .dataframe thead th {\n",
       "        text-align: right;\n",
       "    }\n",
       "</style>\n",
       "<table border=\"1\" class=\"dataframe\">\n",
       "  <thead>\n",
       "    <tr style=\"text-align: right;\">\n",
       "      <th></th>\n",
       "      <th>population</th>\n",
       "      <th>area</th>\n",
       "    </tr>\n",
       "  </thead>\n",
       "  <tbody>\n",
       "    <tr>\n",
       "      <th>California</th>\n",
       "      <td>38332521</td>\n",
       "      <td>423967</td>\n",
       "    </tr>\n",
       "    <tr>\n",
       "      <th>Texas</th>\n",
       "      <td>26448193</td>\n",
       "      <td>695662</td>\n",
       "    </tr>\n",
       "    <tr>\n",
       "      <th>New York</th>\n",
       "      <td>19651127</td>\n",
       "      <td>141297</td>\n",
       "    </tr>\n",
       "    <tr>\n",
       "      <th>Florida</th>\n",
       "      <td>19552860</td>\n",
       "      <td>170312</td>\n",
       "    </tr>\n",
       "    <tr>\n",
       "      <th>Illinois</th>\n",
       "      <td>12882135</td>\n",
       "      <td>149995</td>\n",
       "    </tr>\n",
       "  </tbody>\n",
       "</table>\n",
       "</div>"
      ],
      "text/plain": [
       "            population    area\n",
       "California    38332521  423967\n",
       "Texas         26448193  695662\n",
       "New York      19651127  141297\n",
       "Florida       19552860  170312\n",
       "Illinois      12882135  149995"
      ]
     },
     "execution_count": 36,
     "metadata": {},
     "output_type": "execute_result"
    }
   ],
   "source": [
    "#(3)通过 Series 对象字典创建。 \n",
    "pd.DataFrame({'population': population, \n",
    "              'area': area})"
   ]
  },
  {
   "cell_type": "code",
   "execution_count": 37,
   "id": "55255b44",
   "metadata": {},
   "outputs": [
    {
     "data": {
      "text/html": [
       "<div>\n",
       "<style scoped>\n",
       "    .dataframe tbody tr th:only-of-type {\n",
       "        vertical-align: middle;\n",
       "    }\n",
       "\n",
       "    .dataframe tbody tr th {\n",
       "        vertical-align: top;\n",
       "    }\n",
       "\n",
       "    .dataframe thead th {\n",
       "        text-align: right;\n",
       "    }\n",
       "</style>\n",
       "<table border=\"1\" class=\"dataframe\">\n",
       "  <thead>\n",
       "    <tr style=\"text-align: right;\">\n",
       "      <th></th>\n",
       "      <th>A</th>\n",
       "      <th>B</th>\n",
       "      <th>C</th>\n",
       "    </tr>\n",
       "  </thead>\n",
       "  <tbody>\n",
       "    <tr>\n",
       "      <th>f1</th>\n",
       "      <td>0</td>\n",
       "      <td>1</td>\n",
       "      <td>2</td>\n",
       "    </tr>\n",
       "    <tr>\n",
       "      <th>f2</th>\n",
       "      <td>3</td>\n",
       "      <td>4</td>\n",
       "      <td>5</td>\n",
       "    </tr>\n",
       "    <tr>\n",
       "      <th>f3</th>\n",
       "      <td>6</td>\n",
       "      <td>7</td>\n",
       "      <td>8</td>\n",
       "    </tr>\n",
       "  </tbody>\n",
       "</table>\n",
       "</div>"
      ],
      "text/plain": [
       "    A  B  C\n",
       "f1  0  1  2\n",
       "f2  3  4  5\n",
       "f3  6  7  8"
      ]
     },
     "execution_count": 37,
     "metadata": {},
     "output_type": "execute_result"
    }
   ],
   "source": [
    "#（4）通过numpy二维数组直接创建\n",
    "pd.DataFrame(np.arange(9).reshape(3,3), \n",
    "             index = [\"f1\",\"f2\",\"f3\"],\n",
    "             columns= [\"A\",\"B\",\"C\"])"
   ]
  },
  {
   "cell_type": "code",
   "execution_count": 38,
   "id": "3ac17759",
   "metadata": {},
   "outputs": [],
   "source": [
    "##------Pandas的Index对象--------##"
   ]
  },
  {
   "cell_type": "code",
   "execution_count": 39,
   "id": "fd6c220e",
   "metadata": {},
   "outputs": [],
   "source": [
    "#Pandas 的 Index 对象是一个很有趣的数据结构， 可以将它看作\n",
    "#是一个不可变数组或有序集合（实际上是一个多集， 因为 Index 对象可能会包含重复值)"
   ]
  },
  {
   "cell_type": "code",
   "execution_count": 40,
   "id": "dd30f85a",
   "metadata": {},
   "outputs": [
    {
     "data": {
      "text/plain": [
       "Int64Index([2, 4, 6, 8, 10], dtype='int64')"
      ]
     },
     "execution_count": 40,
     "metadata": {},
     "output_type": "execute_result"
    }
   ],
   "source": [
    "#首先创建一个index对象\n",
    "ind=pd.Index([2,4,6,8,10])\n",
    "ind"
   ]
  },
  {
   "cell_type": "code",
   "execution_count": 41,
   "id": "a776d755",
   "metadata": {},
   "outputs": [
    {
     "name": "stdout",
     "output_type": "stream",
     "text": [
      "(5,) 5 int64\n"
     ]
    }
   ],
   "source": [
    "#01. 将Index看作不可变数组\n",
    "#Index的许多操作都与数组类似\n",
    "print(ind.shape,\n",
    "      ind.size,\n",
    "      ind.dtype)"
   ]
  },
  {
   "cell_type": "code",
   "execution_count": 42,
   "id": "c125daa6",
   "metadata": {},
   "outputs": [
    {
     "ename": "TypeError",
     "evalue": "Index does not support mutable operations",
     "output_type": "error",
     "traceback": [
      "\u001b[1;31m---------------------------------------------------------------------------\u001b[0m",
      "\u001b[1;31mTypeError\u001b[0m                                 Traceback (most recent call last)",
      "\u001b[1;32m<ipython-input-42-5374e531132c>\u001b[0m in \u001b[0;36m<module>\u001b[1;34m\u001b[0m\n\u001b[0;32m      1\u001b[0m \u001b[1;31m#最重要的区别，index对象的值是不能改变的\u001b[0m\u001b[1;33m\u001b[0m\u001b[1;33m\u001b[0m\u001b[1;33m\u001b[0m\u001b[0m\n\u001b[1;32m----> 2\u001b[1;33m \u001b[0mind\u001b[0m\u001b[1;33m[\u001b[0m\u001b[1;36m0\u001b[0m\u001b[1;33m]\u001b[0m \u001b[1;33m=\u001b[0m \u001b[1;36m1\u001b[0m\u001b[1;33m\u001b[0m\u001b[1;33m\u001b[0m\u001b[0m\n\u001b[0m\u001b[0;32m      3\u001b[0m \u001b[1;31m#TypeError: Index does not support mutable operations\u001b[0m\u001b[1;33m\u001b[0m\u001b[1;33m\u001b[0m\u001b[1;33m\u001b[0m\u001b[0m\n",
      "\u001b[1;32md:\\soft\\anaconda3\\lib\\site-packages\\pandas\\core\\indexes\\base.py\u001b[0m in \u001b[0;36m__setitem__\u001b[1;34m(self, key, value)\u001b[0m\n\u001b[0;32m   4275\u001b[0m     \u001b[1;33m@\u001b[0m\u001b[0mfinal\u001b[0m\u001b[1;33m\u001b[0m\u001b[1;33m\u001b[0m\u001b[0m\n\u001b[0;32m   4276\u001b[0m     \u001b[1;32mdef\u001b[0m \u001b[0m__setitem__\u001b[0m\u001b[1;33m(\u001b[0m\u001b[0mself\u001b[0m\u001b[1;33m,\u001b[0m \u001b[0mkey\u001b[0m\u001b[1;33m,\u001b[0m \u001b[0mvalue\u001b[0m\u001b[1;33m)\u001b[0m\u001b[1;33m:\u001b[0m\u001b[1;33m\u001b[0m\u001b[1;33m\u001b[0m\u001b[0m\n\u001b[1;32m-> 4277\u001b[1;33m         \u001b[1;32mraise\u001b[0m \u001b[0mTypeError\u001b[0m\u001b[1;33m(\u001b[0m\u001b[1;34m\"Index does not support mutable operations\"\u001b[0m\u001b[1;33m)\u001b[0m\u001b[1;33m\u001b[0m\u001b[1;33m\u001b[0m\u001b[0m\n\u001b[0m\u001b[0;32m   4278\u001b[0m \u001b[1;33m\u001b[0m\u001b[0m\n\u001b[0;32m   4279\u001b[0m     \u001b[1;32mdef\u001b[0m \u001b[0m__getitem__\u001b[0m\u001b[1;33m(\u001b[0m\u001b[0mself\u001b[0m\u001b[1;33m,\u001b[0m \u001b[0mkey\u001b[0m\u001b[1;33m)\u001b[0m\u001b[1;33m:\u001b[0m\u001b[1;33m\u001b[0m\u001b[1;33m\u001b[0m\u001b[0m\n",
      "\u001b[1;31mTypeError\u001b[0m: Index does not support mutable operations"
     ]
    }
   ],
   "source": [
    "#最重要的区别，index对象的值是不能改变的\n",
    "ind[0] = 1\n",
    "#TypeError: Index does not support mutable operations"
   ]
  },
  {
   "cell_type": "code",
   "execution_count": 43,
   "id": "7b58485c",
   "metadata": {},
   "outputs": [
    {
     "name": "stderr",
     "output_type": "stream",
     "text": [
      "<ipython-input-43-3037f07d24e2>:6: FutureWarning: Index.__and__ operating as a set operation is deprecated, in the future this will be a logical operation matching Series.__and__.  Use index.intersection(other) instead\n",
      "  ind & ind1\n",
      "<ipython-input-43-3037f07d24e2>:7: FutureWarning: Index.__or__ operating as a set operation is deprecated, in the future this will be a logical operation matching Series.__or__.  Use index.union(other) instead\n",
      "  ind | ind1\n"
     ]
    },
    {
     "data": {
      "text/plain": [
       "Int64Index([1, 2, 3, 4, 5, 6, 8, 10], dtype='int64')"
      ]
     },
     "execution_count": 43,
     "metadata": {},
     "output_type": "execute_result"
    }
   ],
   "source": [
    "#02. 将Index看作有序集合\n",
    "#Pandas 对象被设计用于实现许多操作， 如连接（join） 数据集， 其中会涉及许多集合操作。\n",
    "ind=pd.Index([2,4,6,8,10])\n",
    "ind1=pd.Index([1,2,3,4,5])\n",
    "\n",
    "ind & ind1\n",
    "ind | ind1"
   ]
  }
 ],
 "metadata": {
  "kernelspec": {
   "display_name": "Python 3",
   "language": "python",
   "name": "python3"
  },
  "language_info": {
   "codemirror_mode": {
    "name": "ipython",
    "version": 3
   },
   "file_extension": ".py",
   "mimetype": "text/x-python",
   "name": "python",
   "nbconvert_exporter": "python",
   "pygments_lexer": "ipython3",
   "version": "3.8.8"
  }
 },
 "nbformat": 4,
 "nbformat_minor": 5
}
