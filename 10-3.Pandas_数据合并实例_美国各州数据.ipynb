{
 "cells": [
  {
   "cell_type": "code",
   "execution_count": 1,
   "id": "6114ef16",
   "metadata": {},
   "outputs": [],
   "source": [
    "##-------------------------##\n",
    "##--实例：美国各州统计数据---##\n",
    "##-------------------------##"
   ]
  },
  {
   "cell_type": "code",
   "execution_count": 2,
   "id": "0d61f676",
   "metadata": {},
   "outputs": [],
   "source": [
    "#git clone https://github.com/jakevdp/data-USstates/\n",
    "import numpy as py\n",
    "import pandas as pd"
   ]
  },
  {
   "cell_type": "code",
   "execution_count": 3,
   "id": "17033b43",
   "metadata": {},
   "outputs": [
    {
     "name": "stdout",
     "output_type": "stream",
     "text": [
      "  state/region     ages  year  population\n",
      "0           AL  under18  2012   1117489.0\n",
      "1           AL    total  2012   4817528.0\n",
      "2           AL  under18  2010   1130966.0\n",
      "3           AL    total  2010   4785570.0\n",
      "4           AL  under18  2011   1125763.0\n",
      "\n",
      "        state  area (sq. mi)\n",
      "0     Alabama          52423\n",
      "1      Alaska         656425\n",
      "2     Arizona         114006\n",
      "3    Arkansas          53182\n",
      "4  California         163707\n",
      "\n",
      "        state abbreviation\n",
      "0     Alabama           AL\n",
      "1      Alaska           AK\n",
      "2     Arizona           AZ\n",
      "3    Arkansas           AR\n",
      "4  California           CA\n"
     ]
    }
   ],
   "source": [
    "#使用read_csv读入数据集\n",
    "pop = pd.read_csv(\"./test_data/state-population.csv\")\n",
    "areas = pd.read_csv('./test_data/state-areas.csv')\n",
    "abbrevs = pd.read_csv('./test_data/state-abbrevs.csv')\n",
    "print(f\"{pop.head()}\\n\\n{areas.head()}\\n\\n{abbrevs.head()}\")"
   ]
  },
  {
   "cell_type": "code",
   "execution_count": 5,
   "id": "4f407970",
   "metadata": {},
   "outputs": [
    {
     "name": "stdout",
     "output_type": "stream",
     "text": [
      "state/region    False\n",
      "ages            False\n",
      "year            False\n",
      "population       True\n",
      "state           False\n",
      "dtype: bool\n",
      "\n",
      "  state/region     ages  year  population    state\n",
      "0           AL  under18  2012   1117489.0  Alabama\n",
      "1           AL    total  2012   4817528.0  Alabama\n",
      "2           AL  under18  2010   1130966.0  Alabama\n",
      "3           AL    total  2010   4785570.0  Alabama\n",
      "4           AL  under18  2011   1125763.0  Alabama\n"
     ]
    }
   ],
   "source": [
    "#计算美国的人口密度\n",
    "#首先state数据写入\n",
    "merged = pd.merge(left=pop,right=abbrevs,how = \"outer\",left_on=\"state/region\",right_on=\"abbreviation\").drop(\"abbreviation\",axis=1)\n",
    "#查看是否有缺失值\n",
    "merged.isnull().any()\n",
    "#可以看出state和population有缺失值, 查看一下缺失值是哪些数据\n",
    "merged[merged[\"population\"].isnull()].head()\n",
    "#将PR和对应的简称写入abbreviation\n",
    "merged.loc[merged['state/region'] == 'PR', 'state'] = 'Puerto Rico'\n",
    "merged.loc[merged['state/region'] == 'USA', 'state'] = 'United States'\n",
    "print(f\"{merged.isnull().any()}\\n\\n{merged.head()}\")"
   ]
  },
  {
   "cell_type": "code",
   "execution_count": 6,
   "id": "b078d24f",
   "metadata": {},
   "outputs": [
    {
     "data": {
      "text/html": [
       "<div>\n",
       "<style scoped>\n",
       "    .dataframe tbody tr th:only-of-type {\n",
       "        vertical-align: middle;\n",
       "    }\n",
       "\n",
       "    .dataframe tbody tr th {\n",
       "        vertical-align: top;\n",
       "    }\n",
       "\n",
       "    .dataframe thead th {\n",
       "        text-align: right;\n",
       "    }\n",
       "</style>\n",
       "<table border=\"1\" class=\"dataframe\">\n",
       "  <thead>\n",
       "    <tr style=\"text-align: right;\">\n",
       "      <th></th>\n",
       "      <th>state/region</th>\n",
       "      <th>ages</th>\n",
       "      <th>year</th>\n",
       "      <th>population</th>\n",
       "      <th>state</th>\n",
       "      <th>area (sq. mi)</th>\n",
       "    </tr>\n",
       "  </thead>\n",
       "  <tbody>\n",
       "    <tr>\n",
       "      <th>3</th>\n",
       "      <td>AL</td>\n",
       "      <td>total</td>\n",
       "      <td>2010</td>\n",
       "      <td>4785570.0</td>\n",
       "      <td>Alabama</td>\n",
       "      <td>52423.0</td>\n",
       "    </tr>\n",
       "    <tr>\n",
       "      <th>91</th>\n",
       "      <td>AK</td>\n",
       "      <td>total</td>\n",
       "      <td>2010</td>\n",
       "      <td>713868.0</td>\n",
       "      <td>Alaska</td>\n",
       "      <td>656425.0</td>\n",
       "    </tr>\n",
       "    <tr>\n",
       "      <th>101</th>\n",
       "      <td>AZ</td>\n",
       "      <td>total</td>\n",
       "      <td>2010</td>\n",
       "      <td>6408790.0</td>\n",
       "      <td>Arizona</td>\n",
       "      <td>114006.0</td>\n",
       "    </tr>\n",
       "    <tr>\n",
       "      <th>189</th>\n",
       "      <td>AR</td>\n",
       "      <td>total</td>\n",
       "      <td>2010</td>\n",
       "      <td>2922280.0</td>\n",
       "      <td>Arkansas</td>\n",
       "      <td>53182.0</td>\n",
       "    </tr>\n",
       "    <tr>\n",
       "      <th>197</th>\n",
       "      <td>CA</td>\n",
       "      <td>total</td>\n",
       "      <td>2010</td>\n",
       "      <td>37333601.0</td>\n",
       "      <td>California</td>\n",
       "      <td>163707.0</td>\n",
       "    </tr>\n",
       "  </tbody>\n",
       "</table>\n",
       "</div>"
      ],
      "text/plain": [
       "    state/region   ages  year  population       state  area (sq. mi)\n",
       "3             AL  total  2010   4785570.0     Alabama        52423.0\n",
       "91            AK  total  2010    713868.0      Alaska       656425.0\n",
       "101           AZ  total  2010   6408790.0     Arizona       114006.0\n",
       "189           AR  total  2010   2922280.0    Arkansas        53182.0\n",
       "197           CA  total  2010  37333601.0  California       163707.0"
      ]
     },
     "execution_count": 6,
     "metadata": {},
     "output_type": "execute_result"
    }
   ],
   "source": [
    "#将population数据写入\n",
    "merge_pop = pd.merge(left=merged,right=pop,how=\"outer\")\n",
    "#将面积数据写入\n",
    "merge_den=pd.merge(merge_pop,areas,how = \"outer\")\n",
    "#只选择总人口的数据和2010年数据\n",
    "merge_den = merge_den.loc[(merge_den.year == 2010) & (merge_den.ages == \"total\"),:]\n",
    "merge_den.head()"
   ]
  },
  {
   "cell_type": "code",
   "execution_count": 7,
   "id": "7b7cbfca",
   "metadata": {},
   "outputs": [
    {
     "name": "stdout",
     "output_type": "stream",
     "text": [
      "           state/region   ages  year  population  area (sq. mi)\n",
      "state                                                          \n",
      "Alabama              AL  total  2010   4785570.0        52423.0\n",
      "Alaska               AK  total  2010    713868.0       656425.0\n",
      "Arizona              AZ  total  2010   6408790.0       114006.0\n",
      "Arkansas             AR  total  2010   2922280.0        53182.0\n",
      "California           CA  total  2010  37333601.0       163707.0\n"
     ]
    }
   ],
   "source": [
    "#重置一下index\n",
    "merge_den.set_index(\"state\",inplace=True)\n",
    "print(merge_den.head())"
   ]
  },
  {
   "cell_type": "code",
   "execution_count": 8,
   "id": "55a64f96",
   "metadata": {},
   "outputs": [
    {
     "data": {
      "text/plain": [
       "state\n",
       "Alabama        91.287603\n",
       "Alaska          1.087509\n",
       "Arizona        56.214497\n",
       "Arkansas       54.948667\n",
       "California    228.051342\n",
       "dtype: float64"
      ]
     },
     "execution_count": 8,
     "metadata": {},
     "output_type": "execute_result"
    }
   ],
   "source": [
    "#计算人口密度\n",
    "destiny = merge_den.loc[:,\"population\"] / merge_den.loc[:,'area (sq. mi)']\n",
    "destiny.head()"
   ]
  },
  {
   "cell_type": "code",
   "execution_count": 102,
   "id": "e5460b9e",
   "metadata": {},
   "outputs": [
    {
     "name": "stdout",
     "output_type": "stream",
     "text": [
      "'Smallest'\n",
      "state\n",
      "Alaska           1.087509\n",
      "Wyoming          5.768079\n",
      "Montana          6.736171\n",
      "North Dakota     9.537565\n",
      "South Dakota    10.583512\n",
      "dtype: float64\n",
      "\n",
      "\n",
      "Biggesetstate\n",
      "District of Columbia    8898.897059\n",
      "Puerto Rico             1058.665149\n",
      "New Jersey              1009.253268\n",
      "Rhode Island             681.339159\n",
      "Connecticut              645.600649\n",
      "dtype: float64\n"
     ]
    }
   ],
   "source": [
    "#sort一下\n",
    "print(f\"'Smallest'\\n{destiny.sort_values(ascending=True).head()}\")\n",
    "print(f\"\\n\\nBiggeset{destiny.sort_values(ascending=False).head()}\")"
   ]
  }
 ],
 "metadata": {
  "kernelspec": {
   "display_name": "Python 3",
   "language": "python",
   "name": "python3"
  },
  "language_info": {
   "codemirror_mode": {
    "name": "ipython",
    "version": 3
   },
   "file_extension": ".py",
   "mimetype": "text/x-python",
   "name": "python",
   "nbconvert_exporter": "python",
   "pygments_lexer": "ipython3",
   "version": "3.8.8"
  }
 },
 "nbformat": 4,
 "nbformat_minor": 5
}
