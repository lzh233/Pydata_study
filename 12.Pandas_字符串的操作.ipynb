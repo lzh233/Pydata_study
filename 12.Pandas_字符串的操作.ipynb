{
 "cells": [
  {
   "cell_type": "code",
   "execution_count": null,
   "id": "c4ef4727",
   "metadata": {},
   "outputs": [],
   "source": [
    "##-------------------------##\n",
    "##----Pandas累计与分组------##\n",
    "##-------------------------##"
   ]
  },
  {
   "cell_type": "code",
   "execution_count": 1,
   "id": "e009b994",
   "metadata": {},
   "outputs": [],
   "source": [
    "import numpy as np\n",
    "import pandas as pd"
   ]
  },
  {
   "cell_type": "code",
   "execution_count": 3,
   "id": "991bc7e5",
   "metadata": {},
   "outputs": [
    {
     "data": {
      "text/plain": [
       "0    peter\n",
       "1     Paul\n",
       "2     None\n",
       "3     MARY\n",
       "4    gUIDO\n",
       "dtype: object"
      ]
     },
     "execution_count": 3,
     "metadata": {},
     "output_type": "execute_result"
    }
   ],
   "source": [
    "#生成一个字符串向量\n",
    "data = ['peter', 'Paul', None, 'MARY', 'gUIDO']\n",
    "#转换为Series对象\n",
    "data = pd.Series(data=data)\n",
    "data"
   ]
  },
  {
   "cell_type": "code",
   "execution_count": 4,
   "id": "eba64ad5",
   "metadata": {},
   "outputs": [
    {
     "data": {
      "text/plain": [
       "0    PETER\n",
       "1     PAUL\n",
       "2     None\n",
       "3     MARY\n",
       "4    GUIDO\n",
       "dtype: object"
      ]
     },
     "execution_count": 4,
     "metadata": {},
     "output_type": "execute_result"
    }
   ],
   "source": [
    "#转换为大写\n",
    "data.str.upper()"
   ]
  },
  {
   "cell_type": "code",
   "execution_count": 10,
   "id": "72e4468a",
   "metadata": {},
   "outputs": [
    {
     "data": {
      "text/plain": [
       "0    0.0\n",
       "1    1.0\n",
       "2    NaN\n",
       "3    1.0\n",
       "4    0.0\n",
       "dtype: float64"
      ]
     },
     "execution_count": 10,
     "metadata": {},
     "output_type": "execute_result"
    }
   ],
   "source": [
    "#字符串计数\n",
    "data.str.count(pat = \"^[-P,M]\")"
   ]
  },
  {
   "cell_type": "code",
   "execution_count": 26,
   "id": "ea7b741e",
   "metadata": {},
   "outputs": [
    {
     "data": {
      "text/plain": [
       "0    peter\n",
       "1     paul\n",
       "2     None\n",
       "3     mary\n",
       "4    guido\n",
       "dtype: object"
      ]
     },
     "execution_count": 26,
     "metadata": {},
     "output_type": "execute_result"
    }
   ],
   "source": [
    "data.str.lower()"
   ]
  },
  {
   "cell_type": "code",
   "execution_count": 27,
   "id": "d5b63676",
   "metadata": {},
   "outputs": [
    {
     "data": {
      "text/plain": [
       "0    Peter\n",
       "1     Paul\n",
       "2     None\n",
       "3     Mary\n",
       "4    Guido\n",
       "dtype: object"
      ]
     },
     "execution_count": 27,
     "metadata": {},
     "output_type": "execute_result"
    }
   ],
   "source": [
    "data.str.capitalize()"
   ]
  },
  {
   "cell_type": "code",
   "execution_count": 46,
   "id": "ef0e2d35",
   "metadata": {},
   "outputs": [],
   "source": [
    "monte = pd.Series(['Graham Chapman', 'John Cleese', 'Terry Gilliam','Eric Idle', 'Terry Jones', 'Michael Palin'])"
   ]
  },
  {
   "cell_type": "code",
   "execution_count": 47,
   "id": "37210247",
   "metadata": {},
   "outputs": [
    {
     "data": {
      "text/plain": [
       "0    False\n",
       "1    False\n",
       "2     True\n",
       "3    False\n",
       "4     True\n",
       "5    False\n",
       "dtype: bool"
      ]
     },
     "execution_count": 47,
     "metadata": {},
     "output_type": "execute_result"
    }
   ],
   "source": [
    "monte.str.startswith(\"T\")"
   ]
  },
  {
   "cell_type": "code",
   "execution_count": 49,
   "id": "1dc52c4f",
   "metadata": {},
   "outputs": [
    {
     "data": {
      "text/plain": [
       "0    [Graham, Chapman]\n",
       "1       [John, Cleese]\n",
       "2     [Terry, Gilliam]\n",
       "3         [Eric, Idle]\n",
       "4       [Terry, Jones]\n",
       "5     [Michael, Palin]\n",
       "dtype: object"
      ]
     },
     "execution_count": 49,
     "metadata": {},
     "output_type": "execute_result"
    }
   ],
   "source": [
    "monte.str.split()"
   ]
  },
  {
   "cell_type": "code",
   "execution_count": null,
   "id": "f5116f7f",
   "metadata": {},
   "outputs": [],
   "source": [
    "#调用re库的方法\n",
    "#match() 对每个元素调用 re.match()， 返回布尔类型值 是否匹配\n",
    "#extract() 对每个元素调用 re.match()， 返回匹配的字符串组（groups）提取匹配部分\n",
    "#findall() 对每个元素调用 re.findall() 查找符合条件的元素\n",
    "#replace() 用正则模式替换字符串\n",
    "#contains() 对每个元素调用 re.search()， 返回布尔类型值\n",
    "#count() 计算符合正则模式的字符串的数量\n",
    "#split() 等价于 str.split()， 支持正则表达式\n",
    "#rsplit() 等价于 str.rsplit()， 支持正则表达式"
   ]
  },
  {
   "cell_type": "code",
   "execution_count": 63,
   "id": "70f6c980",
   "metadata": {},
   "outputs": [
    {
     "data": {
      "text/plain": [
       "0               []\n",
       "1    [John Cleese]\n",
       "2               []\n",
       "3      [Eric Idle]\n",
       "4               []\n",
       "5               []\n",
       "dtype: object"
      ]
     },
     "execution_count": 63,
     "metadata": {},
     "output_type": "execute_result"
    }
   ],
   "source": [
    "monte.str.findall(pat='^[A-Z].*[aeiou]$')"
   ]
  },
  {
   "cell_type": "code",
   "execution_count": 71,
   "id": "c00572c2",
   "metadata": {},
   "outputs": [
    {
     "data": {
      "text/plain": [
       "0    r\n",
       "1    o\n",
       "2    e\n",
       "3    r\n",
       "4    e\n",
       "5    i\n",
       "dtype: object"
      ]
     },
     "execution_count": 71,
     "metadata": {},
     "output_type": "execute_result"
    }
   ],
   "source": [
    "#Pandas处理字符串的其他方法,根据索引提取对应字符\n",
    "monte.str.get(i=1)"
   ]
  },
  {
   "cell_type": "code",
   "execution_count": 76,
   "id": "b5593554",
   "metadata": {},
   "outputs": [
    {
     "data": {
      "text/plain": [
       "0    Ga\n",
       "1    Jh\n",
       "2    Tr\n",
       "3    Ei\n",
       "4    Tr\n",
       "5    Mc\n",
       "dtype: object"
      ]
     },
     "execution_count": 76,
     "metadata": {},
     "output_type": "execute_result"
    }
   ],
   "source": [
    "#对字符串切片\n",
    "monte.str.slice(start=0,stop=4,step=2)"
   ]
  },
  {
   "cell_type": "code",
   "execution_count": null,
   "id": "3300960a",
   "metadata": {},
   "outputs": [],
   "source": [
    "#slice_replace() 对元素进行切片替换\n",
    "#cat() 连接字符串\n",
    "#repeat() 重复元素\n",
    "#normalize() 将字符串转换为 Unicode 规范形式\n",
    "#wrap() 将字符串按照指定的宽度换行\n",
    "#join() 用分隔符连接 Series 的每个元素\n",
    "#get_dummies() 按照分隔符提取每个元素的 dummy 变量， 转换为独热（one-hot） 编码的 DataFrame"
   ]
  },
  {
   "cell_type": "code",
   "execution_count": 78,
   "id": "39c3d270",
   "metadata": {},
   "outputs": [],
   "source": [
    "#查看某个方法的帮助文档\n",
    "#help(data.str.cat)"
   ]
  }
 ],
 "metadata": {
  "kernelspec": {
   "display_name": "Python 3",
   "language": "python",
   "name": "python3"
  },
  "language_info": {
   "codemirror_mode": {
    "name": "ipython",
    "version": 3
   },
   "file_extension": ".py",
   "mimetype": "text/x-python",
   "name": "python",
   "nbconvert_exporter": "python",
   "pygments_lexer": "ipython3",
   "version": "3.8.8"
  }
 },
 "nbformat": 4,
 "nbformat_minor": 5
}
