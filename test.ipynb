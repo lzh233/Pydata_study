{
 "cells": [
  {
   "cell_type": "code",
   "execution_count": 1,
   "id": "ce440682",
   "metadata": {},
   "outputs": [],
   "source": [
    "class Dog():\n",
    "    def __init__(self,name,age):\n",
    "        self.name = name\n",
    "        self.age = age\n",
    "    def sit(self):\n",
    "        print(\"sit\")\n",
    "    def say(self):\n",
    "        print(\"ww\")"
   ]
  },
  {
   "cell_type": "code",
   "execution_count": 2,
   "id": "0f5b1515",
   "metadata": {},
   "outputs": [],
   "source": [
    "my_dog = Dog(age=2,name = \"ss\")"
   ]
  },
  {
   "cell_type": "code",
   "execution_count": 3,
   "id": "e55032e1",
   "metadata": {},
   "outputs": [
    {
     "data": {
      "text/plain": [
       "'ss'"
      ]
     },
     "execution_count": 3,
     "metadata": {},
     "output_type": "execute_result"
    }
   ],
   "source": [
    "my_dog.name"
   ]
  },
  {
   "cell_type": "code",
   "execution_count": 5,
   "id": "a01062da",
   "metadata": {},
   "outputs": [
    {
     "name": "stdout",
     "output_type": "stream",
     "text": [
      "sit\n"
     ]
    }
   ],
   "source": [
    "my_dog.sit()"
   ]
  },
  {
   "cell_type": "code",
   "execution_count": 7,
   "id": "858d585a",
   "metadata": {},
   "outputs": [
    {
     "data": {
      "text/plain": [
       "2"
      ]
     },
     "execution_count": 7,
     "metadata": {},
     "output_type": "execute_result"
    }
   ],
   "source": [
    "my_dog.age"
   ]
  },
  {
   "cell_type": "code",
   "execution_count": 10,
   "id": "d4235a16",
   "metadata": {},
   "outputs": [],
   "source": [
    "your_dog = Dog(\"agua\",12)"
   ]
  },
  {
   "cell_type": "code",
   "execution_count": 11,
   "id": "0f16b0d3",
   "metadata": {},
   "outputs": [
    {
     "data": {
      "text/plain": [
       "'agua'"
      ]
     },
     "execution_count": 11,
     "metadata": {},
     "output_type": "execute_result"
    }
   ],
   "source": [
    "your_dog.name"
   ]
  },
  {
   "cell_type": "code",
   "execution_count": 39,
   "id": "74bbf0aa",
   "metadata": {},
   "outputs": [],
   "source": [
    "class resulrant:\n",
    "    def __init__(self,name,type_res):\n",
    "        self.resulrant_names = name\n",
    "        self.resulrant_type = type_res\n",
    "    def describe_restaurant(self):\n",
    "        print(f\"my restanrant is {self.resulrant_names}\")\n",
    "        print(f\"my restanrant type is {self.resulrant_type}\")"
   ]
  },
  {
   "cell_type": "code",
   "execution_count": 40,
   "id": "6ad50eac",
   "metadata": {},
   "outputs": [],
   "source": [
    "a = resulrant(name = \"aa\",type_res=\"bb\")"
   ]
  },
  {
   "cell_type": "code",
   "execution_count": 41,
   "id": "1831cf9d",
   "metadata": {},
   "outputs": [
    {
     "name": "stdout",
     "output_type": "stream",
     "text": [
      "my restanrant is aa\n",
      "my restanrant type is bb\n"
     ]
    }
   ],
   "source": [
    "a.describe_restaurant()"
   ]
  },
  {
   "cell_type": "code",
   "execution_count": 42,
   "id": "d13166c2",
   "metadata": {},
   "outputs": [],
   "source": [
    "class User:\n",
    "    def __init__(self,first_name,last_name,animal):\n",
    "        self.first_name = first_name\n",
    "        self.last_name = last_name\n",
    "        self.animal = animal\n",
    "    def describe_user(self):\n",
    "        print(f\"I am {self.first_name} {self.last_name}, I like {self.animal}\")\n",
    "    def greet_user(self):\n",
    "        print(f\"Hello {self.first_name} {self.last_name}\")"
   ]
  },
  {
   "cell_type": "code",
   "execution_count": 43,
   "id": "ca007e7d",
   "metadata": {},
   "outputs": [],
   "source": [
    "user = User(animal=\"cat\",last_name=\"Wick\",first_name = \"John\")"
   ]
  },
  {
   "cell_type": "code",
   "execution_count": 44,
   "id": "d0fbde5d",
   "metadata": {},
   "outputs": [
    {
     "name": "stdout",
     "output_type": "stream",
     "text": [
      "I am John Wick, I like cat\n"
     ]
    }
   ],
   "source": [
    "user.describe_user()"
   ]
  },
  {
   "cell_type": "code",
   "execution_count": 47,
   "id": "1512004f",
   "metadata": {},
   "outputs": [
    {
     "name": "stdout",
     "output_type": "stream",
     "text": [
      "Hello John Wick\n"
     ]
    }
   ],
   "source": [
    "user.greet_user()"
   ]
  },
  {
   "cell_type": "code",
   "execution_count": null,
   "id": "fe4592af",
   "metadata": {},
   "outputs": [],
   "source": [
    "class Car:\n",
    "    def __init__(self,make,model,year):\n",
    "        self.make = make\n",
    "        self.model = model"
   ]
  }
 ],
 "metadata": {
  "kernelspec": {
   "display_name": "Python 3",
   "language": "python",
   "name": "python3"
  },
  "language_info": {
   "codemirror_mode": {
    "name": "ipython",
    "version": 3
   },
   "file_extension": ".py",
   "mimetype": "text/x-python",
   "name": "python",
   "nbconvert_exporter": "python",
   "pygments_lexer": "ipython3",
   "version": "3.8.8"
  }
 },
 "nbformat": 4,
 "nbformat_minor": 5
}
