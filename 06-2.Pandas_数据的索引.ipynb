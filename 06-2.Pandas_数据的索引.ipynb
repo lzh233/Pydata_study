{
 "cells": [
  {
   "cell_type": "code",
   "execution_count": 6,
   "id": "8754c55e",
   "metadata": {},
   "outputs": [],
   "source": [
    "import numpy as np\n",
    "import pandas as pd"
   ]
  },
  {
   "cell_type": "code",
   "execution_count": 7,
   "id": "f4190c2a",
   "metadata": {},
   "outputs": [],
   "source": [
    "##-------------------------##\n",
    "## ----Pandas数据索引-------##\n",
    "##-------------------------##"
   ]
  },
  {
   "cell_type": "code",
   "execution_count": 8,
   "id": "f56db2b7",
   "metadata": {},
   "outputs": [],
   "source": [
    "#### Series数据选择方法 ####"
   ]
  },
  {
   "cell_type": "code",
   "execution_count": 12,
   "id": "072415c5",
   "metadata": {},
   "outputs": [
    {
     "data": {
      "text/plain": [
       "a    0.25\n",
       "b    0.50\n",
       "c    0.75\n",
       "d    1.00\n",
       "dtype: float64"
      ]
     },
     "execution_count": 12,
     "metadata": {},
     "output_type": "execute_result"
    }
   ],
   "source": [
    "#01. 将Series看作字典\n",
    "#创建一个Series对象\n",
    "data = pd.Series([0.25, 0.5, 0.75, 1.0],\n",
    "                 index=['a', 'b', 'c', 'd'])\n",
    "data"
   ]
  },
  {
   "cell_type": "code",
   "execution_count": 19,
   "id": "276a3f7b",
   "metadata": {},
   "outputs": [
    {
     "name": "stdout",
     "output_type": "stream",
     "text": [
      "0.25\n"
     ]
    }
   ],
   "source": [
    "#使用类似于字典的键值对映射\n",
    "print(data[\"a\"])"
   ]
  },
  {
   "cell_type": "code",
   "execution_count": 20,
   "id": "a95fa461",
   "metadata": {},
   "outputs": [
    {
     "data": {
      "text/plain": [
       "a      0.25\n",
       "b      0.50\n",
       "c      0.75\n",
       "d      1.00\n",
       "e    100.00\n",
       "dtype: float64"
      ]
     },
     "execution_count": 20,
     "metadata": {},
     "output_type": "execute_result"
    }
   ],
   "source": [
    "#Series 对象还可以用字典语法调整数据。 就像你可以通过增加新的键扩展字典一样，\n",
    "data[\"e\"] = 100\n",
    "data"
   ]
  },
  {
   "cell_type": "code",
   "execution_count": null,
   "id": "13fa48c8",
   "metadata": {},
   "outputs": [],
   "source": [
    "#2. 将Series看作一维数组"
   ]
  },
  {
   "cell_type": "code",
   "execution_count": 21,
   "id": "025d9d1d",
   "metadata": {},
   "outputs": [
    {
     "data": {
      "text/plain": [
       "a    0.25\n",
       "b    0.50\n",
       "c    0.75\n",
       "dtype: float64"
      ]
     },
     "execution_count": 21,
     "metadata": {},
     "output_type": "execute_result"
    }
   ],
   "source": [
    "#显式索引切片\n",
    "data[\"a\":\"c\"]"
   ]
  },
  {
   "cell_type": "code",
   "execution_count": 22,
   "id": "ef6f7ddc",
   "metadata": {},
   "outputs": [
    {
     "data": {
      "text/plain": [
       "a    0.25\n",
       "b    0.50\n",
       "c    0.75\n",
       "dtype: float64"
      ]
     },
     "execution_count": 22,
     "metadata": {},
     "output_type": "execute_result"
    }
   ],
   "source": [
    "#隐式索引切片\n",
    "data[0:3]"
   ]
  },
  {
   "cell_type": "code",
   "execution_count": 26,
   "id": "4018cdc5",
   "metadata": {},
   "outputs": [
    {
     "name": "stdout",
     "output_type": "stream",
     "text": [
      "d      1.0\n",
      "e    100.0\n",
      "dtype: float64\n",
      "d    1.0\n",
      "dtype: float64\n"
     ]
    }
   ],
   "source": [
    "#使用逻辑值索引\n",
    "print(data[(data >= 1)])\n",
    "print(data[(data >= 1) & (data < 100)])"
   ]
  },
  {
   "cell_type": "code",
   "execution_count": 32,
   "id": "a273ec4c",
   "metadata": {},
   "outputs": [
    {
     "data": {
      "text/plain": [
       "a      0.25\n",
       "b      0.50\n",
       "c      0.75\n",
       "d      1.00\n",
       "e    100.00\n",
       "dtype: float64"
      ]
     },
     "execution_count": 32,
     "metadata": {},
     "output_type": "execute_result"
    }
   ],
   "source": [
    "#03. 使用索引器： loc、 iloc和ix进行索引\n",
    "data"
   ]
  },
  {
   "cell_type": "code",
   "execution_count": 33,
   "id": "f7d1ed73",
   "metadata": {},
   "outputs": [
    {
     "name": "stdout",
     "output_type": "stream",
     "text": [
      "0.25 \n",
      " \n",
      "\n",
      "a    0.25\n",
      "b    0.50\n",
      "c    0.75\n",
      "d    1.00\n",
      "dtype: float64\n"
     ]
    }
   ],
   "source": [
    "# loc 属性， 表示取值和切片都是显式的\n",
    "print(data.loc[\"a\"],\"\\n\",\"\\n\")\n",
    "print(data.loc[\"a\":\"d\"])"
   ]
  },
  {
   "cell_type": "code",
   "execution_count": 37,
   "id": "11e178af",
   "metadata": {},
   "outputs": [
    {
     "name": "stdout",
     "output_type": "stream",
     "text": [
      "0.25 \n",
      "\n",
      "d      1.0\n",
      "e    100.0\n",
      "dtype: float64\n"
     ]
    }
   ],
   "source": [
    "# iloc 属性， 表示取值和切片都是隐式的\n",
    "print(data.iloc[0],\"\\n\")\n",
    "print(data.iloc[3:6])"
   ]
  },
  {
   "cell_type": "code",
   "execution_count": 38,
   "id": "2153e561",
   "metadata": {},
   "outputs": [],
   "source": [
    "#ix 属性 混合的主要用于 DataFrame 对象\n",
    "#使用 loc 和 iloc 可以让代码更容易维护， 可读性更高。 特别是在处理整数索引的对象时\n",
    "# 我强烈推荐使用这两种索引器。 它们既可以让代码阅读和理解起来更容易， 也能避免因误用索引 / 切片而产生的小 bug。"
   ]
  },
  {
   "cell_type": "code",
   "execution_count": null,
   "id": "ba55835e",
   "metadata": {},
   "outputs": [],
   "source": [
    "#### DataFrame数据选择方法 ####"
   ]
  },
  {
   "cell_type": "code",
   "execution_count": 46,
   "id": "44f46df8",
   "metadata": {},
   "outputs": [
    {
     "data": {
      "text/html": [
       "<div>\n",
       "<style scoped>\n",
       "    .dataframe tbody tr th:only-of-type {\n",
       "        vertical-align: middle;\n",
       "    }\n",
       "\n",
       "    .dataframe tbody tr th {\n",
       "        vertical-align: top;\n",
       "    }\n",
       "\n",
       "    .dataframe thead th {\n",
       "        text-align: right;\n",
       "    }\n",
       "</style>\n",
       "<table border=\"1\" class=\"dataframe\">\n",
       "  <thead>\n",
       "    <tr style=\"text-align: right;\">\n",
       "      <th></th>\n",
       "      <th>area</th>\n",
       "      <th>pop</th>\n",
       "    </tr>\n",
       "  </thead>\n",
       "  <tbody>\n",
       "    <tr>\n",
       "      <th>California</th>\n",
       "      <td>423967</td>\n",
       "      <td>38332521</td>\n",
       "    </tr>\n",
       "    <tr>\n",
       "      <th>Texas</th>\n",
       "      <td>695662</td>\n",
       "      <td>26448193</td>\n",
       "    </tr>\n",
       "    <tr>\n",
       "      <th>New York</th>\n",
       "      <td>141297</td>\n",
       "      <td>19651127</td>\n",
       "    </tr>\n",
       "    <tr>\n",
       "      <th>Florida</th>\n",
       "      <td>170312</td>\n",
       "      <td>19552860</td>\n",
       "    </tr>\n",
       "    <tr>\n",
       "      <th>Illinois</th>\n",
       "      <td>149995</td>\n",
       "      <td>12882135</td>\n",
       "    </tr>\n",
       "  </tbody>\n",
       "</table>\n",
       "</div>"
      ],
      "text/plain": [
       "              area       pop\n",
       "California  423967  38332521\n",
       "Texas       695662  26448193\n",
       "New York    141297  19651127\n",
       "Florida     170312  19552860\n",
       "Illinois    149995  12882135"
      ]
     },
     "execution_count": 46,
     "metadata": {},
     "output_type": "execute_result"
    }
   ],
   "source": [
    "#01. 将DataFrame看作字典\n",
    "#两个 Series 分别构成 DataFrame 的一列， 可以通过对列名进行字典形式（dictionary-style） 的取值获取数据\n",
    "#首先创建一个series对象\n",
    "area = pd.Series({'California': 423967, \n",
    "                  'Texas': 695662,\n",
    "                  'New York': 141297, \n",
    "                  'Florida': 170312,\n",
    "                  'Illinois': 149995})\n",
    "pop = pd.Series({'California': 38332521, \n",
    "                 'Texas': 26448193,\n",
    "                 'New York': 19651127, \n",
    "                 'Florida': 19552860,\n",
    "                 'Illinois': 12882135})\n",
    "\n",
    "data = pd.DataFrame({'area':area, 'pop':pop})\n",
    "data"
   ]
  },
  {
   "cell_type": "code",
   "execution_count": 40,
   "id": "effa031e",
   "metadata": {},
   "outputs": [
    {
     "data": {
      "text/plain": [
       "California    423967\n",
       "Texas         695662\n",
       "New York      141297\n",
       "Florida       170312\n",
       "Illinois      149995\n",
       "Name: area, dtype: int64"
      ]
     },
     "execution_count": 40,
     "metadata": {},
     "output_type": "execute_result"
    }
   ],
   "source": [
    "#根据列名选取数据\n",
    "data[\"area\"]"
   ]
  },
  {
   "cell_type": "code",
   "execution_count": 41,
   "id": "41e8e39f",
   "metadata": {},
   "outputs": [
    {
     "data": {
      "text/plain": [
       "<bound method DataFrame.pop of               area       pop\n",
       "California  423967  38332521\n",
       "Texas       695662  26448193\n",
       "New York    141297  19651127\n",
       "Florida     170312  19552860\n",
       "Illinois    149995  12882135>"
      ]
     },
     "execution_count": 41,
     "metadata": {},
     "output_type": "execute_result"
    }
   ],
   "source": [
    "#也可以用属性形式（attribute-style） 选择纯字符串列名的数据\n",
    "data.pop"
   ]
  },
  {
   "cell_type": "code",
   "execution_count": 47,
   "id": "70437675",
   "metadata": {},
   "outputs": [
    {
     "data": {
      "text/html": [
       "<div>\n",
       "<style scoped>\n",
       "    .dataframe tbody tr th:only-of-type {\n",
       "        vertical-align: middle;\n",
       "    }\n",
       "\n",
       "    .dataframe tbody tr th {\n",
       "        vertical-align: top;\n",
       "    }\n",
       "\n",
       "    .dataframe thead th {\n",
       "        text-align: right;\n",
       "    }\n",
       "</style>\n",
       "<table border=\"1\" class=\"dataframe\">\n",
       "  <thead>\n",
       "    <tr style=\"text-align: right;\">\n",
       "      <th></th>\n",
       "      <th>area</th>\n",
       "      <th>pop</th>\n",
       "      <th>dens</th>\n",
       "    </tr>\n",
       "  </thead>\n",
       "  <tbody>\n",
       "    <tr>\n",
       "      <th>California</th>\n",
       "      <td>423967</td>\n",
       "      <td>38332521</td>\n",
       "      <td>90.413926</td>\n",
       "    </tr>\n",
       "    <tr>\n",
       "      <th>Texas</th>\n",
       "      <td>695662</td>\n",
       "      <td>26448193</td>\n",
       "      <td>38.018740</td>\n",
       "    </tr>\n",
       "    <tr>\n",
       "      <th>New York</th>\n",
       "      <td>141297</td>\n",
       "      <td>19651127</td>\n",
       "      <td>139.076746</td>\n",
       "    </tr>\n",
       "    <tr>\n",
       "      <th>Florida</th>\n",
       "      <td>170312</td>\n",
       "      <td>19552860</td>\n",
       "      <td>114.806121</td>\n",
       "    </tr>\n",
       "    <tr>\n",
       "      <th>Illinois</th>\n",
       "      <td>149995</td>\n",
       "      <td>12882135</td>\n",
       "      <td>85.883763</td>\n",
       "    </tr>\n",
       "  </tbody>\n",
       "</table>\n",
       "</div>"
      ],
      "text/plain": [
       "              area       pop        dens\n",
       "California  423967  38332521   90.413926\n",
       "Texas       695662  26448193   38.018740\n",
       "New York    141297  19651127  139.076746\n",
       "Florida     170312  19552860  114.806121\n",
       "Illinois    149995  12882135   85.883763"
      ]
     },
     "execution_count": 47,
     "metadata": {},
     "output_type": "execute_result"
    }
   ],
   "source": [
    "#增加新的一列\n",
    "data[\"dens\"] = data[\"pop\"] / data[\"area\"]\n",
    "data"
   ]
  },
  {
   "cell_type": "code",
   "execution_count": null,
   "id": "ef8e30c0",
   "metadata": {},
   "outputs": [],
   "source": [
    "#02. 将DataFrame看作二维数组"
   ]
  },
  {
   "cell_type": "code",
   "execution_count": 51,
   "id": "8cc2e4b6",
   "metadata": {},
   "outputs": [
    {
     "name": "stdout",
     "output_type": "stream",
     "text": [
      "[[4.23967000e+05 3.83325210e+07 9.04139261e+01]\n",
      " [6.95662000e+05 2.64481930e+07 3.80187404e+01]\n",
      " [1.41297000e+05 1.96511270e+07 1.39076746e+02]\n",
      " [1.70312000e+05 1.95528600e+07 1.14806121e+02]\n",
      " [1.49995000e+05 1.28821350e+07 8.58837628e+01]] \n",
      "\n",
      "Index(['California', 'Texas', 'New York', 'Florida', 'Illinois'], dtype='object') \n",
      "\n",
      "        California         Texas      New York       Florida      Illinois\n",
      "area  4.239670e+05  6.956620e+05  1.412970e+05  1.703120e+05  1.499950e+05\n",
      "pop   3.833252e+07  2.644819e+07  1.965113e+07  1.955286e+07  1.288214e+07\n",
      "dens  9.041393e+01  3.801874e+01  1.390767e+02  1.148061e+02  8.588376e+01\n"
     ]
    }
   ],
   "source": [
    "#同样DataFrame也可以使用values index T等查看属性\n",
    "print(data.values,\"\\n\")\n",
    "print(data.index,\"\\n\")\n",
    "print(data.T)"
   ]
  },
  {
   "cell_type": "code",
   "execution_count": 56,
   "id": "e8ee4c4e",
   "metadata": {},
   "outputs": [
    {
     "name": "stdout",
     "output_type": "stream",
     "text": [
      "area    6.956620e+05\n",
      "pop     2.644819e+07\n",
      "dens    3.801874e+01\n",
      "Name: Texas, dtype: float64 \n",
      "\n",
      "area    4.239670e+05\n",
      "pop     3.833252e+07\n",
      "dens    9.041393e+01\n",
      "Name: California, dtype: float64\n"
     ]
    }
   ],
   "source": [
    "#使用 loc、 iloc 对DataFrame索引\n",
    "print(data.loc[\"Texas\"],\"\\n\")\n",
    "print(data.iloc[0])"
   ]
  },
  {
   "cell_type": "code",
   "execution_count": 61,
   "id": "d97105a2",
   "metadata": {},
   "outputs": [
    {
     "data": {
      "text/html": [
       "<div>\n",
       "<style scoped>\n",
       "    .dataframe tbody tr th:only-of-type {\n",
       "        vertical-align: middle;\n",
       "    }\n",
       "\n",
       "    .dataframe tbody tr th {\n",
       "        vertical-align: top;\n",
       "    }\n",
       "\n",
       "    .dataframe thead th {\n",
       "        text-align: right;\n",
       "    }\n",
       "</style>\n",
       "<table border=\"1\" class=\"dataframe\">\n",
       "  <thead>\n",
       "    <tr style=\"text-align: right;\">\n",
       "      <th></th>\n",
       "      <th>area</th>\n",
       "      <th>pop</th>\n",
       "      <th>dens</th>\n",
       "    </tr>\n",
       "  </thead>\n",
       "  <tbody>\n",
       "    <tr>\n",
       "      <th>California</th>\n",
       "      <td>423967</td>\n",
       "      <td>38332521</td>\n",
       "      <td>9000.000000</td>\n",
       "    </tr>\n",
       "    <tr>\n",
       "      <th>Texas</th>\n",
       "      <td>695662</td>\n",
       "      <td>26448193</td>\n",
       "      <td>38.018740</td>\n",
       "    </tr>\n",
       "    <tr>\n",
       "      <th>New York</th>\n",
       "      <td>141297</td>\n",
       "      <td>19651127</td>\n",
       "      <td>139.076746</td>\n",
       "    </tr>\n",
       "    <tr>\n",
       "      <th>Florida</th>\n",
       "      <td>170312</td>\n",
       "      <td>19552860</td>\n",
       "      <td>114.806121</td>\n",
       "    </tr>\n",
       "    <tr>\n",
       "      <th>Illinois</th>\n",
       "      <td>149995</td>\n",
       "      <td>12882135</td>\n",
       "      <td>85.883763</td>\n",
       "    </tr>\n",
       "  </tbody>\n",
       "</table>\n",
       "</div>"
      ],
      "text/plain": [
       "              area       pop         dens\n",
       "California  423967  38332521  9000.000000\n",
       "Texas       695662  26448193    38.018740\n",
       "New York    141297  19651127   139.076746\n",
       "Florida     170312  19552860   114.806121\n",
       "Illinois    149995  12882135    85.883763"
      ]
     },
     "execution_count": 61,
     "metadata": {},
     "output_type": "execute_result"
    }
   ],
   "source": [
    "#数据的调整\n",
    "data.iloc[0,2] = 9000\n",
    "data"
   ]
  },
  {
   "cell_type": "code",
   "execution_count": 67,
   "id": "f372d8c4",
   "metadata": {},
   "outputs": [
    {
     "data": {
      "text/plain": [
       "Texas         695662\n",
       "California    423967\n",
       "Name: area, dtype: int64"
      ]
     },
     "execution_count": 67,
     "metadata": {},
     "output_type": "execute_result"
    }
   ],
   "source": [
    "#如取area列的\"Texas\"和\"California\"\n",
    "data[\"area\"].loc[[\"Texas\",\"California\"]]"
   ]
  },
  {
   "cell_type": "code",
   "execution_count": 71,
   "id": "ebbb2d13",
   "metadata": {},
   "outputs": [
    {
     "data": {
      "text/html": [
       "<div>\n",
       "<style scoped>\n",
       "    .dataframe tbody tr th:only-of-type {\n",
       "        vertical-align: middle;\n",
       "    }\n",
       "\n",
       "    .dataframe tbody tr th {\n",
       "        vertical-align: top;\n",
       "    }\n",
       "\n",
       "    .dataframe thead th {\n",
       "        text-align: right;\n",
       "    }\n",
       "</style>\n",
       "<table border=\"1\" class=\"dataframe\">\n",
       "  <thead>\n",
       "    <tr style=\"text-align: right;\">\n",
       "      <th></th>\n",
       "      <th>area</th>\n",
       "      <th>pop</th>\n",
       "      <th>dens</th>\n",
       "    </tr>\n",
       "  </thead>\n",
       "  <tbody>\n",
       "    <tr>\n",
       "      <th>Florida</th>\n",
       "      <td>170312</td>\n",
       "      <td>19552860</td>\n",
       "      <td>114.806121</td>\n",
       "    </tr>\n",
       "    <tr>\n",
       "      <th>Illinois</th>\n",
       "      <td>149995</td>\n",
       "      <td>12882135</td>\n",
       "      <td>85.883763</td>\n",
       "    </tr>\n",
       "  </tbody>\n",
       "</table>\n",
       "</div>"
      ],
      "text/plain": [
       "            area       pop        dens\n",
       "Florida   170312  19552860  114.806121\n",
       "Illinois  149995  12882135   85.883763"
      ]
     },
     "execution_count": 71,
     "metadata": {},
     "output_type": "execute_result"
    }
   ],
   "source": [
    "#03. 其他取值方法，如果对单个标签取值就选择列， 而对多个标签用切片就选择行\n",
    "data['Florida':'Illinois']"
   ]
  },
  {
   "cell_type": "code",
   "execution_count": 74,
   "id": "e5ea4c9b",
   "metadata": {},
   "outputs": [
    {
     "data": {
      "text/html": [
       "<div>\n",
       "<style scoped>\n",
       "    .dataframe tbody tr th:only-of-type {\n",
       "        vertical-align: middle;\n",
       "    }\n",
       "\n",
       "    .dataframe tbody tr th {\n",
       "        vertical-align: top;\n",
       "    }\n",
       "\n",
       "    .dataframe thead th {\n",
       "        text-align: right;\n",
       "    }\n",
       "</style>\n",
       "<table border=\"1\" class=\"dataframe\">\n",
       "  <thead>\n",
       "    <tr style=\"text-align: right;\">\n",
       "      <th></th>\n",
       "      <th>area</th>\n",
       "      <th>pop</th>\n",
       "      <th>dens</th>\n",
       "    </tr>\n",
       "  </thead>\n",
       "  <tbody>\n",
       "    <tr>\n",
       "      <th>California</th>\n",
       "      <td>423967</td>\n",
       "      <td>38332521</td>\n",
       "      <td>9000.000000</td>\n",
       "    </tr>\n",
       "    <tr>\n",
       "      <th>New York</th>\n",
       "      <td>141297</td>\n",
       "      <td>19651127</td>\n",
       "      <td>139.076746</td>\n",
       "    </tr>\n",
       "    <tr>\n",
       "      <th>Florida</th>\n",
       "      <td>170312</td>\n",
       "      <td>19552860</td>\n",
       "      <td>114.806121</td>\n",
       "    </tr>\n",
       "    <tr>\n",
       "      <th>Illinois</th>\n",
       "      <td>149995</td>\n",
       "      <td>12882135</td>\n",
       "      <td>85.883763</td>\n",
       "    </tr>\n",
       "  </tbody>\n",
       "</table>\n",
       "</div>"
      ],
      "text/plain": [
       "              area       pop         dens\n",
       "California  423967  38332521  9000.000000\n",
       "New York    141297  19651127   139.076746\n",
       "Florida     170312  19552860   114.806121\n",
       "Illinois    149995  12882135    85.883763"
      ]
     },
     "execution_count": 74,
     "metadata": {},
     "output_type": "execute_result"
    }
   ],
   "source": [
    "#逻辑符操作也可以直接对每一行进行过滤\n",
    "data[data.dens > 50]"
   ]
  }
 ],
 "metadata": {
  "kernelspec": {
   "display_name": "Python 3",
   "language": "python",
   "name": "python3"
  },
  "language_info": {
   "codemirror_mode": {
    "name": "ipython",
    "version": 3
   },
   "file_extension": ".py",
   "mimetype": "text/x-python",
   "name": "python",
   "nbconvert_exporter": "python",
   "pygments_lexer": "ipython3",
   "version": "3.8.8"
  }
 },
 "nbformat": 4,
 "nbformat_minor": 5
}
