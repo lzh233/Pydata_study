{
 "cells": [
  {
   "cell_type": "code",
   "execution_count": 27,
   "id": "7ad10868",
   "metadata": {},
   "outputs": [],
   "source": [
    "import numpy as np\n",
    "import pandas as pd"
   ]
  },
  {
   "cell_type": "code",
   "execution_count": 28,
   "id": "3511c48e",
   "metadata": {},
   "outputs": [],
   "source": [
    "##-------------------------##\n",
    "## ----Pandas层级索引-------##\n",
    "##-------------------------##"
   ]
  },
  {
   "cell_type": "code",
   "execution_count": 29,
   "id": "f9b94e1b",
   "metadata": {},
   "outputs": [],
   "source": [
    "#1 .多级索引Series"
   ]
  },
  {
   "cell_type": "code",
   "execution_count": 36,
   "id": "090f9191",
   "metadata": {},
   "outputs": [
    {
     "data": {
      "text/plain": [
       "(California, 2000)    33871648\n",
       "(California, 2010)    37253956\n",
       "(New York, 2000)      18976457\n",
       "(New York, 2010)      19378102\n",
       "(Texas, 2000)         20851820\n",
       "(Texas, 2010)         25145561\n",
       "dtype: int64"
      ]
     },
     "execution_count": 36,
     "metadata": {},
     "output_type": "execute_result"
    }
   ],
   "source": [
    "##假设你想要分析美国各州在两个不同年份的数据, 首先利用元组构建索引\n",
    "#创建Seris对象\n",
    "index = [('California', 2000), ('California', 2010),\n",
    "         ('New York', 2000), ('New York', 2010),\n",
    "         ('Texas', 2000), ('Texas', 2010)]\n",
    "populations = [33871648, \n",
    "               37253956, \n",
    "               18976457, \n",
    "               19378102, \n",
    "               20851820, \n",
    "               25145561]\n",
    "pop = pd.Series(populations,index=index)\n",
    "pop"
   ]
  },
  {
   "cell_type": "code",
   "execution_count": 37,
   "id": "d071cd06",
   "metadata": {},
   "outputs": [
    {
     "data": {
      "text/plain": [
       "(New York, 2000)    18976457\n",
       "(New York, 2010)    19378102\n",
       "dtype: int64"
      ]
     },
     "execution_count": 37,
     "metadata": {},
     "output_type": "execute_result"
    }
   ],
   "source": [
    "#通过元组构成的多级索引， 你可以直接在 Series 上取值或用切片查询数据(麻烦）\n",
    "#比如查看2000-2010年纽约的数据\n",
    "pop[(\"New York\", 2000):(\"New York\", 2010)]"
   ]
  },
  {
   "cell_type": "code",
   "execution_count": 38,
   "id": "9e370a51",
   "metadata": {},
   "outputs": [
    {
     "data": {
      "text/plain": [
       "(California, 2000)    33871648\n",
       "(New York, 2000)      18976457\n",
       "(Texas, 2000)         20851820\n",
       "dtype: int64"
      ]
     },
     "execution_count": 38,
     "metadata": {},
     "output_type": "execute_result"
    }
   ],
   "source": [
    "#假如你想要选择所有 2000 年的数据， 那么就得用一些比较复杂的（可能也比较慢的） 清理方法了\n",
    "pop[[year for year in pop.index if(year[1] == 2000)]]#列表解析"
   ]
  },
  {
   "cell_type": "code",
   "execution_count": 39,
   "id": "56866fe4",
   "metadata": {},
   "outputs": [],
   "source": [
    "#2 A Good Idea pandas多级索引"
   ]
  },
  {
   "cell_type": "code",
   "execution_count": 40,
   "id": "90c9bc47",
   "metadata": {},
   "outputs": [
    {
     "data": {
      "text/plain": [
       "33871648   NaN\n",
       "37253956   NaN\n",
       "18976457   NaN\n",
       "19378102   NaN\n",
       "20851820   NaN\n",
       "25145561   NaN\n",
       "dtype: float64"
      ]
     },
     "execution_count": 40,
     "metadata": {},
     "output_type": "execute_result"
    }
   ],
   "source": [
    "#使用元组创建一个索引\n",
    "index = pd.MultiIndex.from_tuples(index)\n",
    "pop = pop.reindex(pop)\n",
    "pop"
   ]
  },
  {
   "cell_type": "code",
   "execution_count": 41,
   "id": "e217db5a",
   "metadata": {},
   "outputs": [
    {
     "data": {
      "text/plain": [
       "MultiIndex([('California', 2000),\n",
       "            ('California', 2010),\n",
       "            (  'New York', 2000),\n",
       "            (  'New York', 2010),\n",
       "            (     'Texas', 2000),\n",
       "            (     'Texas', 2010)],\n",
       "           )"
      ]
     },
     "execution_count": 41,
     "metadata": {},
     "output_type": "execute_result"
    }
   ],
   "source": [
    "index"
   ]
  },
  {
   "cell_type": "code",
   "execution_count": null,
   "id": "1dfd7285",
   "metadata": {},
   "outputs": [],
   "source": []
  },
  {
   "cell_type": "code",
   "execution_count": null,
   "id": "2fa70c1d",
   "metadata": {},
   "outputs": [],
   "source": []
  },
  {
   "cell_type": "code",
   "execution_count": null,
   "id": "c27f90a1",
   "metadata": {},
   "outputs": [],
   "source": []
  },
  {
   "cell_type": "code",
   "execution_count": null,
   "id": "307a5298",
   "metadata": {},
   "outputs": [],
   "source": []
  },
  {
   "cell_type": "code",
   "execution_count": null,
   "id": "f9eccd2a",
   "metadata": {},
   "outputs": [],
   "source": []
  },
  {
   "cell_type": "code",
   "execution_count": null,
   "id": "a16b0fe5",
   "metadata": {},
   "outputs": [],
   "source": []
  },
  {
   "cell_type": "code",
   "execution_count": null,
   "id": "1d40563b",
   "metadata": {},
   "outputs": [],
   "source": []
  },
  {
   "cell_type": "code",
   "execution_count": null,
   "id": "9a4f7006",
   "metadata": {},
   "outputs": [],
   "source": []
  },
  {
   "cell_type": "code",
   "execution_count": null,
   "id": "84341b00",
   "metadata": {},
   "outputs": [],
   "source": []
  },
  {
   "cell_type": "code",
   "execution_count": null,
   "id": "9b52bcbf",
   "metadata": {},
   "outputs": [],
   "source": []
  },
  {
   "cell_type": "code",
   "execution_count": null,
   "id": "622655c2",
   "metadata": {},
   "outputs": [],
   "source": []
  }
 ],
 "metadata": {
  "kernelspec": {
   "display_name": "Python 3",
   "language": "python",
   "name": "python3"
  },
  "language_info": {
   "codemirror_mode": {
    "name": "ipython",
    "version": 3
   },
   "file_extension": ".py",
   "mimetype": "text/x-python",
   "name": "python",
   "nbconvert_exporter": "python",
   "pygments_lexer": "ipython3",
   "version": "3.8.8"
  }
 },
 "nbformat": 4,
 "nbformat_minor": 5
}
