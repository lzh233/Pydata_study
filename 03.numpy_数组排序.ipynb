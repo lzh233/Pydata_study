{
 "cells": [
  {
   "cell_type": "code",
   "execution_count": 4,
   "id": "42b71f10",
   "metadata": {},
   "outputs": [],
   "source": [
    "##-----------------------------##\n",
    "##----------数组的排序----------##\n",
    "##-----------------------------##"
   ]
  },
  {
   "cell_type": "code",
   "execution_count": 5,
   "id": "c4f51ff9",
   "metadata": {},
   "outputs": [],
   "source": [
    "import numpy as np\n",
    "#NumPy中的快速排序： np.sort和np.argsort"
   ]
  },
  {
   "cell_type": "code",
   "execution_count": 6,
   "id": "b00f3834",
   "metadata": {},
   "outputs": [],
   "source": [
    "x = np.array([2, 1, 4, 3, 5])"
   ]
  },
  {
   "cell_type": "code",
   "execution_count": 8,
   "id": "534a3005",
   "metadata": {},
   "outputs": [
    {
     "data": {
      "text/plain": [
       "array([1, 2, 3, 4, 5])"
      ]
     },
     "execution_count": 8,
     "metadata": {},
     "output_type": "execute_result"
    }
   ],
   "source": [
    "#对数组进行排序np.sort\n",
    "np.sort(x)"
   ]
  },
  {
   "cell_type": "code",
   "execution_count": 10,
   "id": "7498a5ee",
   "metadata": {},
   "outputs": [
    {
     "name": "stdout",
     "output_type": "stream",
     "text": [
      "[1 0 3 2 4]\n",
      "[1 2 3 4 5]\n"
     ]
    }
   ],
   "source": [
    "#对数组排序，np.argsort 返回值为数组的索引值\n",
    "print(np.argsort(x))\n",
    "#可以使用其返回结果直接创建有序数组\n",
    "print(x[np.argsort(x)])"
   ]
  },
  {
   "cell_type": "code",
   "execution_count": 16,
   "id": "d05a8157",
   "metadata": {},
   "outputs": [
    {
     "data": {
      "text/plain": [
       "array([[ 5,  9, 16, 11, 10],\n",
       "       [13,  7,  9, 14,  6],\n",
       "       [ 4, 11,  6,  8,  9],\n",
       "       [ 9, 11,  6, 14, 17]])"
      ]
     },
     "execution_count": 16,
     "metadata": {},
     "output_type": "execute_result"
    }
   ],
   "source": [
    "#沿着行或列排序\n",
    "x1 = np.random.randint(1,20,20).reshape((4,5))\n",
    "x1"
   ]
  },
  {
   "cell_type": "code",
   "execution_count": 17,
   "id": "de3a65be",
   "metadata": {},
   "outputs": [
    {
     "data": {
      "text/plain": [
       "array([[ 4,  7,  6,  8,  6],\n",
       "       [ 5,  9,  6, 11,  9],\n",
       "       [ 9, 11,  9, 14, 10],\n",
       "       [13, 11, 16, 14, 17]])"
      ]
     },
     "execution_count": 17,
     "metadata": {},
     "output_type": "execute_result"
    }
   ],
   "source": [
    "#按照列排序\n",
    "np.sort(x1,axis=0)"
   ]
  },
  {
   "cell_type": "code",
   "execution_count": 18,
   "id": "03ebfce5",
   "metadata": {},
   "outputs": [
    {
     "data": {
      "text/plain": [
       "array([[ 5,  9, 10, 11, 16],\n",
       "       [ 6,  7,  9, 13, 14],\n",
       "       [ 4,  6,  8,  9, 11],\n",
       "       [ 6,  9, 11, 14, 17]])"
      ]
     },
     "execution_count": 18,
     "metadata": {},
     "output_type": "execute_result"
    }
   ],
   "source": [
    "#按照行排序\n",
    "np.sort(x1,axis=1)"
   ]
  },
  {
   "cell_type": "code",
   "execution_count": 19,
   "id": "c171e275",
   "metadata": {},
   "outputs": [
    {
     "data": {
      "text/plain": [
       "array([7, 2, 3, 1, 6, 5, 4])"
      ]
     },
     "execution_count": 19,
     "metadata": {},
     "output_type": "execute_result"
    }
   ],
   "source": [
    "#分隔排序，不对整个数组进行排序， 仅仅希望找到数组中前 K 小的值\n",
    "x2 = np.array([7, 2, 3, 1, 6, 5, 4])\n",
    "x2"
   ]
  },
  {
   "cell_type": "code",
   "execution_count": 21,
   "id": "541e30bb",
   "metadata": {},
   "outputs": [
    {
     "data": {
      "text/plain": [
       "array([2, 1, 3, 4, 5, 6, 7])"
      ]
     },
     "execution_count": 21,
     "metadata": {},
     "output_type": "execute_result"
    }
   ],
   "source": [
    "#np.partition提供了这一功能，\n",
    "#结果数组中前三个值是数组中最小的三个值， 剩下的位置是原始数组剩下的值。 在这两个分隔区间中，元素都是任意排列的。\n",
    "#与排序类似， 也可以沿着多维数组任意的轴进行分隔\n",
    "np.partition(x2,4)"
   ]
  },
  {
   "cell_type": "code",
   "execution_count": 24,
   "id": "8fbcd299",
   "metadata": {},
   "outputs": [
    {
     "data": {
      "text/plain": [
       "array([[13,  3, 64, 89, 67],\n",
       "       [13,  5, 10, 55,  8],\n",
       "       [72, 41, 97, 15, 48],\n",
       "       [53, 62, 17, 50, 72],\n",
       "       [41, 94, 46, 99, 45]])"
      ]
     },
     "execution_count": 24,
     "metadata": {},
     "output_type": "execute_result"
    }
   ],
   "source": [
    "x3 = np.random.randint(1,100,25).reshape(5,5)\n",
    "x3"
   ]
  },
  {
   "cell_type": "code",
   "execution_count": 25,
   "id": "14c09b1c",
   "metadata": {},
   "outputs": [
    {
     "data": {
      "text/plain": [
       "array([[ 3, 13, 64, 67, 89],\n",
       "       [ 5,  8, 10, 13, 55],\n",
       "       [15, 48, 41, 72, 97],\n",
       "       [50, 17, 53, 62, 72],\n",
       "       [41, 45, 46, 94, 99]])"
      ]
     },
     "execution_count": 25,
     "metadata": {},
     "output_type": "execute_result"
    }
   ],
   "source": [
    "#对行操作\n",
    "np.partition(x3,3,axis=1)"
   ]
  },
  {
   "cell_type": "code",
   "execution_count": 26,
   "id": "35847681",
   "metadata": {},
   "outputs": [
    {
     "data": {
      "text/plain": [
       "array([[13,  5, 17, 50,  8],\n",
       "       [13,  3, 46, 15, 45],\n",
       "       [41, 41, 10, 55, 48],\n",
       "       [53, 62, 64, 89, 67],\n",
       "       [72, 94, 97, 99, 72]])"
      ]
     },
     "execution_count": 26,
     "metadata": {},
     "output_type": "execute_result"
    }
   ],
   "source": [
    "#对列操作(默认)\n",
    "np.partition(x3,3,axis = 0)"
   ]
  },
  {
   "cell_type": "code",
   "execution_count": 29,
   "id": "82bf73a7",
   "metadata": {},
   "outputs": [
    {
     "data": {
      "text/plain": [
       "array([[1, 1, 3, 3, 1],\n",
       "       [0, 0, 4, 2, 4],\n",
       "       [4, 2, 1, 1, 2],\n",
       "       [3, 3, 0, 0, 0],\n",
       "       [2, 4, 2, 4, 3]], dtype=int32)"
      ]
     },
     "execution_count": 29,
     "metadata": {},
     "output_type": "execute_result"
    }
   ],
   "source": [
    "#np.argpartition可以返回分隔排序的索引值\n",
    "np.argpartition(x3,3,axis=0)"
   ]
  },
  {
   "cell_type": "code",
   "execution_count": 30,
   "id": "ecb78ccf",
   "metadata": {},
   "outputs": [
    {
     "data": {
      "text/plain": [
       "array([[1, 0, 2, 4, 3],\n",
       "       [1, 4, 2, 0, 3],\n",
       "       [3, 4, 1, 0, 2],\n",
       "       [3, 2, 0, 1, 4],\n",
       "       [0, 4, 2, 1, 3]], dtype=int32)"
      ]
     },
     "execution_count": 30,
     "metadata": {},
     "output_type": "execute_result"
    }
   ],
   "source": [
    "np.argpartition(x3,3,axis=1)"
   ]
  },
  {
   "cell_type": "code",
   "execution_count": 34,
   "id": "0548e555",
   "metadata": {},
   "outputs": [
    {
     "data": {
      "text/plain": [
       "array([[[13,  5, 10, 55,  8],\n",
       "        [13,  3, 64, 89, 67],\n",
       "        [72, 41, 97, 15, 48],\n",
       "        [41, 94, 46, 99, 45],\n",
       "        [53, 62, 17, 50, 72]],\n",
       "\n",
       "       [[13,  5, 10, 55,  8],\n",
       "        [41, 94, 46, 99, 45],\n",
       "        [72, 41, 97, 15, 48],\n",
       "        [13,  3, 64, 89, 67],\n",
       "        [53, 62, 17, 50, 72]],\n",
       "\n",
       "       [[53, 62, 17, 50, 72],\n",
       "        [41, 94, 46, 99, 45],\n",
       "        [13,  5, 10, 55,  8],\n",
       "        [13,  3, 64, 89, 67],\n",
       "        [72, 41, 97, 15, 48]],\n",
       "\n",
       "       [[53, 62, 17, 50, 72],\n",
       "        [72, 41, 97, 15, 48],\n",
       "        [13,  3, 64, 89, 67],\n",
       "        [13,  5, 10, 55,  8],\n",
       "        [41, 94, 46, 99, 45]],\n",
       "\n",
       "       [[13,  3, 64, 89, 67],\n",
       "        [41, 94, 46, 99, 45],\n",
       "        [72, 41, 97, 15, 48],\n",
       "        [13,  5, 10, 55,  8],\n",
       "        [53, 62, 17, 50, 72]]])"
      ]
     },
     "execution_count": 34,
     "metadata": {},
     "output_type": "execute_result"
    }
   ],
   "source": [
    "#同时也可以生成有序数组,每行对应一个索引，所以每个索引会生成5行数据\n",
    "x3[np.argpartition(x3,3,axis = 1)]"
   ]
  }
 ],
 "metadata": {
  "kernelspec": {
   "display_name": "Python 3",
   "language": "python",
   "name": "python3"
  },
  "language_info": {
   "codemirror_mode": {
    "name": "ipython",
    "version": 3
   },
   "file_extension": ".py",
   "mimetype": "text/x-python",
   "name": "python",
   "nbconvert_exporter": "python",
   "pygments_lexer": "ipython3",
   "version": "3.8.8"
  }
 },
 "nbformat": 4,
 "nbformat_minor": 5
}
