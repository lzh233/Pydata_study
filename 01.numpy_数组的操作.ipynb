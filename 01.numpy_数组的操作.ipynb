{
 "cells": [
  {
   "cell_type": "code",
   "execution_count": 1,
   "id": "5d80fb8f",
   "metadata": {},
   "outputs": [],
   "source": [
    "import numpy as np"
   ]
  },
  {
   "cell_type": "code",
   "execution_count": 2,
   "id": "c3b238a8",
   "metadata": {},
   "outputs": [],
   "source": [
    "##--------------------------##\n",
    "## --------创建数组----------##\n",
    "##--------------------------##"
   ]
  },
  {
   "cell_type": "code",
   "execution_count": 3,
   "id": "c0ed342c",
   "metadata": {},
   "outputs": [
    {
     "data": {
      "text/plain": [
       "array([1, 2, 3, 4, 5])"
      ]
     },
     "execution_count": 3,
     "metadata": {},
     "output_type": "execute_result"
    }
   ],
   "source": [
    "#创建一个一维数组\n",
    "np.array([1,2,3,4,5])"
   ]
  },
  {
   "cell_type": "code",
   "execution_count": 4,
   "id": "6878eb7c",
   "metadata": {},
   "outputs": [
    {
     "data": {
      "text/plain": [
       "array([1.1, 2.2, 3. , 4. , 5. ])"
      ]
     },
     "execution_count": 4,
     "metadata": {},
     "output_type": "execute_result"
    }
   ],
   "source": [
    "#数组中的数据类型是一致的，若不一致会自动转换\n",
    "np.array([1.1,2.2,3,4,5])"
   ]
  },
  {
   "cell_type": "code",
   "execution_count": 5,
   "id": "60b6a86d",
   "metadata": {},
   "outputs": [
    {
     "data": {
      "text/plain": [
       "array([1., 2., 3., 3.])"
      ]
     },
     "execution_count": 5,
     "metadata": {},
     "output_type": "execute_result"
    }
   ],
   "source": [
    "#，也可以通过dtype指定数组类型\n",
    "np.array([1,2,3,3],dtype = \"float64\")"
   ]
  },
  {
   "cell_type": "code",
   "execution_count": 6,
   "id": "19506d5d",
   "metadata": {},
   "outputs": [
    {
     "data": {
      "text/plain": [
       "array([[1, 2, 3],\n",
       "       [4, 4, 5],\n",
       "       [7, 7, 7]])"
      ]
     },
     "execution_count": 6,
     "metadata": {},
     "output_type": "execute_result"
    }
   ],
   "source": [
    "#创建多维数组\n",
    "np.array([[1,2,3],\n",
    "        [4,4,5],\n",
    "        [7,7,7]])"
   ]
  },
  {
   "cell_type": "code",
   "execution_count": 7,
   "id": "0e33cde6",
   "metadata": {},
   "outputs": [],
   "source": [
    "##使用numopy内置方法创建数组"
   ]
  },
  {
   "cell_type": "code",
   "execution_count": 8,
   "id": "080bb935",
   "metadata": {},
   "outputs": [
    {
     "data": {
      "text/plain": [
       "array([[0, 0, 0, 0, 0],\n",
       "       [0, 0, 0, 0, 0],\n",
       "       [0, 0, 0, 0, 0],\n",
       "       [0, 0, 0, 0, 0],\n",
       "       [0, 0, 0, 0, 0]])"
      ]
     },
     "execution_count": 8,
     "metadata": {},
     "output_type": "execute_result"
    }
   ],
   "source": [
    "#创建全部由0组成的数组\n",
    "np.zeros((5,5),dtype = int)"
   ]
  },
  {
   "cell_type": "code",
   "execution_count": 9,
   "id": "0b4f8a21",
   "metadata": {},
   "outputs": [
    {
     "data": {
      "text/plain": [
       "array([1, 1, 1, 1, 1, 1, 1, 1, 1, 1, 1, 1])"
      ]
     },
     "execution_count": 9,
     "metadata": {},
     "output_type": "execute_result"
    }
   ],
   "source": [
    "#创建全部由1组成的数组\n",
    "np.ones(12,dtype= int)"
   ]
  },
  {
   "cell_type": "code",
   "execution_count": 10,
   "id": "66193c32",
   "metadata": {},
   "outputs": [
    {
     "data": {
      "text/plain": [
       "array([[3.14, 3.14, 3.14, 3.14, 3.14],\n",
       "       [3.14, 3.14, 3.14, 3.14, 3.14],\n",
       "       [3.14, 3.14, 3.14, 3.14, 3.14]])"
      ]
     },
     "execution_count": 10,
     "metadata": {},
     "output_type": "execute_result"
    }
   ],
   "source": [
    "#创建一个由3.14组成的3*5的矩阵\n",
    "np.full((3,5),3.14)"
   ]
  },
  {
   "cell_type": "code",
   "execution_count": 11,
   "id": "23755f72",
   "metadata": {},
   "outputs": [
    {
     "data": {
      "text/plain": [
       "array([ 0,  2,  4,  6,  8, 10, 12, 14, 16, 18])"
      ]
     },
     "execution_count": 11,
     "metadata": {},
     "output_type": "execute_result"
    }
   ],
   "source": [
    "#创建一个由0开始，20结束，步长为2的数组\n",
    "np.arange(0,20,2)"
   ]
  },
  {
   "cell_type": "code",
   "execution_count": 12,
   "id": "7b7ac12e",
   "metadata": {},
   "outputs": [
    {
     "data": {
      "text/plain": [
       "array([0.  , 0.25, 0.5 , 0.75, 1.  ])"
      ]
     },
     "execution_count": 12,
     "metadata": {},
     "output_type": "execute_result"
    }
   ],
   "source": [
    "#创建一个由五个元素组成的数据，这五个元素均匀分配到0到1\n",
    "np.linspace(0,1,5)"
   ]
  },
  {
   "cell_type": "code",
   "execution_count": 13,
   "id": "604a3bf2",
   "metadata": {},
   "outputs": [
    {
     "data": {
      "text/plain": [
       "array([[0.44009512, 0.53067799, 0.33579672],\n",
       "       [0.49724615, 0.45344011, 0.04823392],\n",
       "       [0.24486555, 0.02649994, 0.4990224 ]])"
      ]
     },
     "execution_count": 13,
     "metadata": {},
     "output_type": "execute_result"
    }
   ],
   "source": [
    "#创建一个3×3的、 在0~1均匀分布的随机数组成的数组\n",
    "np.random.random((3,3))"
   ]
  },
  {
   "cell_type": "code",
   "execution_count": 14,
   "id": "03e37de5",
   "metadata": {},
   "outputs": [
    {
     "data": {
      "text/plain": [
       "array([[-1.00701813,  0.37689624, -1.04542478],\n",
       "       [-0.42679256, -0.8316562 , -1.4927451 ],\n",
       "       [ 0.25965431,  1.02822073, -1.36007402]])"
      ]
     },
     "execution_count": 14,
     "metadata": {},
     "output_type": "execute_result"
    }
   ],
   "source": [
    "#创建一个正态分布的数组\n",
    "np.random.normal(0,1,(3,3))"
   ]
  },
  {
   "cell_type": "code",
   "execution_count": 15,
   "id": "3315dfac",
   "metadata": {},
   "outputs": [
    {
     "data": {
      "text/plain": [
       "array([[2, 5, 8],\n",
       "       [6, 8, 1],\n",
       "       [5, 0, 9]])"
      ]
     },
     "execution_count": 15,
     "metadata": {},
     "output_type": "execute_result"
    }
   ],
   "source": [
    "#创建一个3*3 在[0,10)区间内的随机整数\n",
    "np.random.randint(0,10,(3,3))"
   ]
  },
  {
   "cell_type": "code",
   "execution_count": 16,
   "id": "8615ec30",
   "metadata": {},
   "outputs": [
    {
     "data": {
      "text/plain": [
       "array([[1., 0., 0., 0.],\n",
       "       [0., 1., 0., 0.],\n",
       "       [0., 0., 1., 0.],\n",
       "       [0., 0., 0., 1.]])"
      ]
     },
     "execution_count": 16,
     "metadata": {},
     "output_type": "execute_result"
    }
   ],
   "source": [
    "#创建一个单位矩阵（必须为方阵）\n",
    "np.eye(4)"
   ]
  },
  {
   "cell_type": "code",
   "execution_count": 17,
   "id": "531fd6d5",
   "metadata": {},
   "outputs": [
    {
     "data": {
      "text/plain": [
       "array([0., 0., 0.])"
      ]
     },
     "execution_count": 17,
     "metadata": {},
     "output_type": "execute_result"
    }
   ],
   "source": [
    " # 创建一个由3个整型数组成的未初始化的数组\n",
    "    # 数组的值是内存空间中的任意值\n",
    "np.empty(3)"
   ]
  },
  {
   "cell_type": "code",
   "execution_count": 18,
   "id": "bea9c259",
   "metadata": {},
   "outputs": [],
   "source": [
    "##--------------------------##\n",
    "## --------数组的属性--------##\n",
    "##--------------------------##"
   ]
  },
  {
   "cell_type": "code",
   "execution_count": 19,
   "id": "370750f8",
   "metadata": {},
   "outputs": [],
   "source": [
    "#每个数据有四个主要属性， nidm（数组的维度）、shape（数组每个维度的大小） 、dtype和 size（数组的总大小） "
   ]
  },
  {
   "cell_type": "code",
   "execution_count": 20,
   "id": "9c25f89d",
   "metadata": {},
   "outputs": [
    {
     "name": "stdout",
     "output_type": "stream",
     "text": [
      "[[[2 0 9 2 6]\n",
      "  [8 3 3 0 1]\n",
      "  [3 9 7 5 8]\n",
      "  [8 1 9 4 6]]\n",
      "\n",
      " [[5 3 0 6 3]\n",
      "  [9 6 0 7 8]\n",
      "  [7 9 4 4 7]\n",
      "  [6 2 4 2 8]]\n",
      "\n",
      " [[6 9 7 1 4]\n",
      "  [6 4 8 7 3]\n",
      "  [1 7 6 6 5]\n",
      "  [1 2 4 4 1]]]\n"
     ]
    }
   ],
   "source": [
    "#设置一个数组\n",
    "ay=np.random.randint(10,size =(3,4,5))\n",
    "print(ay)"
   ]
  },
  {
   "cell_type": "code",
   "execution_count": 21,
   "id": "cad82e04",
   "metadata": {},
   "outputs": [
    {
     "name": "stdout",
     "output_type": "stream",
     "text": [
      "3\n",
      "(3, 4, 5)\n",
      "60\n",
      "int32\n"
     ]
    }
   ],
   "source": [
    "#查看数组的属性\n",
    "print(ay.ndim)\n",
    "print(ay.shape)\n",
    "print(ay.size)\n",
    "print(ay.dtype)"
   ]
  },
  {
   "cell_type": "code",
   "execution_count": 22,
   "id": "66c24708",
   "metadata": {},
   "outputs": [],
   "source": [
    "##--------------------------##\n",
    "## -----数组的索引与切片-----##\n",
    "##-------------------------##\n",
    "#存疑"
   ]
  },
  {
   "cell_type": "code",
   "execution_count": 23,
   "id": "02072bfe",
   "metadata": {},
   "outputs": [],
   "source": [
    "#创建一个一维数组,使用[]进行索引，与python类似，索引从0开始，只是负索引\n",
    "ar0=np.array([1,2,3,4])"
   ]
  },
  {
   "cell_type": "code",
   "execution_count": 24,
   "id": "16bc464e",
   "metadata": {},
   "outputs": [
    {
     "name": "stdout",
     "output_type": "stream",
     "text": [
      "1\n",
      "2\n",
      "4\n",
      "3\n"
     ]
    }
   ],
   "source": [
    "print(ar0[0])\n",
    "print(ar0[1])\n",
    "print(ar0[-1])\n",
    "print(ar0[-2])"
   ]
  },
  {
   "cell_type": "code",
   "execution_count": 98,
   "id": "8cdd4265",
   "metadata": {},
   "outputs": [
    {
     "data": {
      "text/plain": [
       "array([[[2, 2, 6, 1],\n",
       "        [3, 9, 6, 1],\n",
       "        [0, 1, 9, 0]],\n",
       "\n",
       "       [[0, 9, 3, 4],\n",
       "        [0, 0, 4, 1],\n",
       "        [7, 3, 2, 4]],\n",
       "\n",
       "       [[7, 2, 4, 8],\n",
       "        [0, 7, 9, 3],\n",
       "        [4, 6, 1, 5]]])"
      ]
     },
     "execution_count": 98,
     "metadata": {},
     "output_type": "execute_result"
    }
   ],
   "source": [
    "np.random.seed(123)\n",
    "#创建一个多维度数组\n",
    "ar1=np.random.randint(10,size =(3,3,4))\n",
    "ar1"
   ]
  },
  {
   "cell_type": "code",
   "execution_count": 28,
   "id": "0f81960d",
   "metadata": {},
   "outputs": [
    {
     "name": "stdout",
     "output_type": "stream",
     "text": [
      "index1:  \n",
      " [[2 2 6 1]\n",
      " [3 9 6 1]\n",
      " [0 1 9 0]]\n",
      "index2:  \n",
      " [0 1 9 0]\n",
      "index3:  \n",
      " 0\n"
     ]
    }
   ],
   "source": [
    "#可以逗号分隔的索引元组获取元素\n",
    "print(\"index1: \",\"\\n\",ar1[0])\n",
    "print(\"index2: \",\"\\n\",ar1[0,2])\n",
    "print(\"index3: \",\"\\n\",ar1[0,2,-1])"
   ]
  },
  {
   "cell_type": "code",
   "execution_count": 29,
   "id": "5fbe9b02",
   "metadata": {},
   "outputs": [
    {
     "name": "stdout",
     "output_type": "stream",
     "text": [
      "index3:  \n",
      " 999\n"
     ]
    }
   ],
   "source": [
    "#也可以用以上索引方式修改元素值,由于数组为整型所以插入的数据会被自动转换为整型，不会提示\n",
    "ar1[0,2,-1]=999.999\n",
    "print(\"index3: \",\"\\n\",ar1[0,2,-1])"
   ]
  },
  {
   "cell_type": "code",
   "execution_count": 30,
   "id": "9d050f85",
   "metadata": {},
   "outputs": [
    {
     "name": "stdout",
     "output_type": "stream",
     "text": [
      "[6 2 1 8 3 5 0 2 6 2]\n"
     ]
    }
   ],
   "source": [
    "#一维数组的切片\n",
    "#创建一个一维数组\n",
    "ar3=np.random.randint(10,size = 10)\n",
    "print(ar3)"
   ]
  },
  {
   "cell_type": "code",
   "execution_count": 39,
   "id": "565c67ce",
   "metadata": {},
   "outputs": [
    {
     "name": "stdout",
     "output_type": "stream",
     "text": [
      "[6 2 1]\n",
      "[2 2 5 8 2]\n",
      "[2 6 2 0 5 3 8 1 2 6]\n",
      "[6 1]\n"
     ]
    }
   ],
   "source": [
    "#array[start:stop:sep]:开始:结束:步长，默认最后一个元素是不被包含的类似于 [）\n",
    "#从第0个元素开始取到第二个元素\n",
    "print(ar3[0:3:1])\n",
    "\n",
    "#倒序取出奇数index元素\n",
    "print(ar3[::-2])\n",
    "\n",
    "#按照倒序输出元素\n",
    "print(ar3[::-1])\n",
    "\n",
    "#前三个元素，步长为2\n",
    "print(ar3[:4:2])"
   ]
  },
  {
   "cell_type": "code",
   "execution_count": 59,
   "id": "5c2103d5",
   "metadata": {},
   "outputs": [
    {
     "name": "stdout",
     "output_type": "stream",
     "text": [
      "[[12  5  2  4]\n",
      " [ 7  6  8  8]\n",
      " [ 1  6  7  7]]\n"
     ]
    }
   ],
   "source": [
    "#多维度数组的切片\n",
    "ar4=np.array([[12, 5, 2, 4],\n",
    "           [ 7, 6, 8, 8],\n",
    "           [ 1, 6, 7, 7]])\n",
    "print(ar4)"
   ]
  },
  {
   "cell_type": "code",
   "execution_count": 62,
   "id": "38f27456",
   "metadata": {},
   "outputs": [
    {
     "name": "stdout",
     "output_type": "stream",
     "text": [
      "[[6 8]\n",
      " [6 7]]\n",
      "\n",
      " [[12  4]\n",
      " [ 7  8]]\n"
     ]
    }
   ],
   "source": [
    "#[start:stop:sep]:开始:结束:步长，默认最后一个元素是不被包含的类似于 [）\n",
    "print(ar4[1:3,1:3])\n",
    "print(\"\\n\",ar4[:2,::3])"
   ]
  },
  {
   "cell_type": "code",
   "execution_count": 85,
   "id": "3d45a25c",
   "metadata": {},
   "outputs": [
    {
     "name": "stdout",
     "output_type": "stream",
     "text": [
      "[[1 2 3]\n",
      " [4 5 6]\n",
      " [7 8 9]]\n"
     ]
    }
   ],
   "source": [
    "##-------------------------##\n",
    "## -------数组的变形--------##\n",
    "##-------------------------##\n",
    "#numpy数组可以通过调用reshape方法变行，如将1-9放入3*3的矩阵\n",
    "ar5=np.arange(1,10).reshape((3,3))\n",
    "print(ar5)"
   ]
  },
  {
   "cell_type": "code",
   "execution_count": 30,
   "id": "38f22f2a",
   "metadata": {},
   "outputs": [
    {
     "name": "stdout",
     "output_type": "stream",
     "text": [
      "[[12  5  2]\n",
      " [ 4  7  6]\n",
      " [ 8  8  1]\n",
      " [ 6  7  7]]\n"
     ]
    }
   ],
   "source": [
    "#将一个一维数组转变为二维的行或列的矩阵\n",
    "ar4=np.array([[12, 5, 2, 4],\n",
    "           [ 7, 6, 8, 8],\n",
    "           [ 1, 6, 7, 7]]).reshape((4,3))\n",
    "print(ar4)"
   ]
  },
  {
   "cell_type": "code",
   "execution_count": 31,
   "id": "f0f43e9d",
   "metadata": {},
   "outputs": [
    {
     "data": {
      "text/plain": [
       "array([[[12,  5,  2],\n",
       "        [ 4,  7,  6],\n",
       "        [ 8,  8,  1],\n",
       "        [ 6,  7,  7]]])"
      ]
     },
     "execution_count": 31,
     "metadata": {},
     "output_type": "execute_result"
    }
   ],
   "source": [
    "ar4[np.newaxis,:]"
   ]
  },
  {
   "cell_type": "code",
   "execution_count": 32,
   "id": "c76f0a8a",
   "metadata": {},
   "outputs": [
    {
     "data": {
      "text/plain": [
       "array([[[12,  5,  2]],\n",
       "\n",
       "       [[ 4,  7,  6]],\n",
       "\n",
       "       [[ 8,  8,  1]],\n",
       "\n",
       "       [[ 6,  7,  7]]])"
      ]
     },
     "execution_count": 32,
     "metadata": {},
     "output_type": "execute_result"
    }
   ],
   "source": [
    "ar4[:, np.newaxis]"
   ]
  },
  {
   "cell_type": "code",
   "execution_count": 35,
   "id": "00c099ab",
   "metadata": {},
   "outputs": [],
   "source": [
    "##-------------------------##\n",
    "## -------拼接和拆分--------##\n",
    "##-------------------------##"
   ]
  },
  {
   "cell_type": "code",
   "execution_count": 36,
   "id": "229071f8",
   "metadata": {},
   "outputs": [
    {
     "data": {
      "text/plain": [
       "array([ 1,  2,  3,  3,  4, 10, 11, 12])"
      ]
     },
     "execution_count": 36,
     "metadata": {},
     "output_type": "execute_result"
    }
   ],
   "source": [
    "#将多个数组合并为一个， 或将一个数组分裂成多个\n",
    "#np.concatenate、 np.vstack 和 np.hstack \n",
    "#连接数组\n",
    "x = np.array([1,2,3,3,4])\n",
    "y = np.array([5,6,7,8,9])\n",
    "z = np.array([10,11,12])\n",
    "np.concatenate((x,z))"
   ]
  },
  {
   "cell_type": "code",
   "execution_count": 37,
   "id": "f5149e50",
   "metadata": {},
   "outputs": [
    {
     "data": {
      "text/plain": [
       "array([ 1,  2,  3,  3,  4,  5,  6,  7,  8,  9, 10, 11, 12])"
      ]
     },
     "execution_count": 37,
     "metadata": {},
     "output_type": "execute_result"
    }
   ],
   "source": [
    "#同时连接多个数组\n",
    "np.concatenate((x,y,z))"
   ]
  },
  {
   "cell_type": "code",
   "execution_count": 38,
   "id": "ac36b3d6",
   "metadata": {},
   "outputs": [],
   "source": [
    "#二维数组的拼接\n",
    "grid = np.array([[1, 2, 3],\n",
    "                 [4, 5, 6]])"
   ]
  },
  {
   "cell_type": "code",
   "execution_count": 39,
   "id": "de8e52c2",
   "metadata": {},
   "outputs": [
    {
     "data": {
      "text/plain": [
       "array([[1, 2, 3],\n",
       "       [4, 5, 6],\n",
       "       [1, 2, 3],\n",
       "       [4, 5, 6]])"
      ]
     },
     "execution_count": 39,
     "metadata": {},
     "output_type": "execute_result"
    }
   ],
   "source": [
    "#沿第0(1)轴拼接, 类似rbind\n",
    "np.concatenate((grid,grid),axis = 0)"
   ]
  },
  {
   "cell_type": "code",
   "execution_count": 40,
   "id": "3953c83f",
   "metadata": {},
   "outputs": [
    {
     "data": {
      "text/plain": [
       "array([[1, 2, 3, 1, 2, 3],\n",
       "       [4, 5, 6, 4, 5, 6]])"
      ]
     },
     "execution_count": 40,
     "metadata": {},
     "output_type": "execute_result"
    }
   ],
   "source": [
    "#沿第1(2)轴拼接，类似cbind\n",
    "np.concatenate((grid,grid),axis = 1)"
   ]
  },
  {
   "cell_type": "code",
   "execution_count": 41,
   "id": "c0b2f891",
   "metadata": {},
   "outputs": [],
   "source": [
    "#沿着固定维度处理数组时， 使用 np.vstack（垂直栈）(rbind) 和 np.hstack（水平栈） (cbind)\n",
    "x = np.array([[1, 2, 3],\n",
    "              [6, 8, 8]])\n",
    "\n",
    "grid = np.array([[9, 8, 7],\n",
    "                 [6, 5, 4]])    "
   ]
  },
  {
   "cell_type": "code",
   "execution_count": 42,
   "id": "9fa0a380",
   "metadata": {},
   "outputs": [
    {
     "data": {
      "text/plain": [
       "array([[1, 2, 3],\n",
       "       [6, 8, 8],\n",
       "       [9, 8, 7],\n",
       "       [6, 5, 4]])"
      ]
     },
     "execution_count": 42,
     "metadata": {},
     "output_type": "execute_result"
    }
   ],
   "source": [
    "np.vstack((x,grid))"
   ]
  },
  {
   "cell_type": "code",
   "execution_count": 43,
   "id": "25995d3a",
   "metadata": {},
   "outputs": [
    {
     "data": {
      "text/plain": [
       "array([[1, 2, 3, 9, 8, 7],\n",
       "       [6, 8, 8, 6, 5, 4]])"
      ]
     },
     "execution_count": 43,
     "metadata": {},
     "output_type": "execute_result"
    }
   ],
   "source": [
    "np.hstack((x,grid))"
   ]
  },
  {
   "cell_type": "code",
   "execution_count": 44,
   "id": "a888fddc",
   "metadata": {},
   "outputs": [],
   "source": [
    "#数组的分裂\n",
    "#通过np.split、 np.hsplit 和 np.vsplit 函数来实现"
   ]
  },
  {
   "cell_type": "code",
   "execution_count": 45,
   "id": "631c3518",
   "metadata": {},
   "outputs": [],
   "source": [
    "x = [1, 2, 3, 99, 99, 3, 2, 1]"
   ]
  },
  {
   "cell_type": "code",
   "execution_count": 46,
   "id": "494a2014",
   "metadata": {},
   "outputs": [
    {
     "data": {
      "text/plain": [
       "[array([1, 2, 3]), array([99, 99]), array([3, 2, 1])]"
      ]
     },
     "execution_count": 46,
     "metadata": {},
     "output_type": "execute_result"
    }
   ],
   "source": [
    "#3和5位分离的索引点\n",
    "#分裂点为3时，[1,2,3]\n",
    "#第一个99和第二个99位3 4\n",
    "#最后一个3为5\n",
    "#N 分裂点会得到 N + 1 个子数组\n",
    "np.split(x,(3,5))"
   ]
  },
  {
   "cell_type": "code",
   "execution_count": 47,
   "id": "91b52758",
   "metadata": {},
   "outputs": [
    {
     "data": {
      "text/plain": [
       "array([[0, 1, 2],\n",
       "       [3, 4, 5],\n",
       "       [6, 7, 8]])"
      ]
     },
     "execution_count": 47,
     "metadata": {},
     "output_type": "execute_result"
    }
   ],
   "source": [
    "#np.hsplit 和 np.vsplit 函数\n",
    "grid=np.arange(9).reshape(3,3)\n",
    "grid"
   ]
  },
  {
   "cell_type": "code",
   "execution_count": 48,
   "id": "f2c78625",
   "metadata": {},
   "outputs": [
    {
     "data": {
      "text/plain": [
       "[array([[0, 1, 2]]), array([[3, 4, 5]]), array([[6, 7, 8]])]"
      ]
     },
     "execution_count": 48,
     "metadata": {},
     "output_type": "execute_result"
    }
   ],
   "source": [
    "np.split(grid,(1,2),axis = 0)"
   ]
  },
  {
   "cell_type": "code",
   "execution_count": 49,
   "id": "62811daa",
   "metadata": {},
   "outputs": [
    {
     "data": {
      "text/plain": [
       "[array([[0],\n",
       "        [3],\n",
       "        [6]]),\n",
       " array([[1],\n",
       "        [4],\n",
       "        [7]]),\n",
       " array([[2],\n",
       "        [5],\n",
       "        [8]])]"
      ]
     },
     "execution_count": 49,
     "metadata": {},
     "output_type": "execute_result"
    }
   ],
   "source": [
    "np.split(grid,(1,2),axis = 1)"
   ]
  },
  {
   "cell_type": "code",
   "execution_count": 50,
   "id": "2b02f74c",
   "metadata": {},
   "outputs": [
    {
     "data": {
      "text/plain": [
       "[array([[0, 1, 2]]), array([[3, 4, 5]]), array([[6, 7, 8]])]"
      ]
     },
     "execution_count": 50,
     "metadata": {},
     "output_type": "execute_result"
    }
   ],
   "source": [
    "np.vsplit(grid,(1,2))"
   ]
  },
  {
   "cell_type": "code",
   "execution_count": 51,
   "id": "bab2ffbe",
   "metadata": {},
   "outputs": [
    {
     "data": {
      "text/plain": [
       "[array([[0],\n",
       "        [3],\n",
       "        [6]]),\n",
       " array([[1],\n",
       "        [4],\n",
       "        [7]]),\n",
       " array([[2],\n",
       "        [5],\n",
       "        [8]])]"
      ]
     },
     "execution_count": 51,
     "metadata": {},
     "output_type": "execute_result"
    }
   ],
   "source": [
    "np.hsplit(grid,(1,2))"
   ]
  }
 ],
 "metadata": {
  "kernelspec": {
   "display_name": "Python 3",
   "language": "python",
   "name": "python3"
  },
  "language_info": {
   "codemirror_mode": {
    "name": "ipython",
    "version": 3
   },
   "file_extension": ".py",
   "mimetype": "text/x-python",
   "name": "python",
   "nbconvert_exporter": "python",
   "pygments_lexer": "ipython3",
   "version": "3.8.8"
  }
 },
 "nbformat": 4,
 "nbformat_minor": 5
}
